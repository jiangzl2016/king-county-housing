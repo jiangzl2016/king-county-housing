{
 "cells": [
  {
   "cell_type": "markdown",
   "metadata": {
    "deletable": true,
    "editable": true
   },
   "source": [
    "# Final Investigation Project: Find Your Ideal House at King County\n",
    "### Author: Zhongling Jiang\n",
    "\n",
    "**Project Description**:\n",
    "\n",
    "The project revolves around two datasets that are downloaded from [Kaggle](https://www.kaggle.com/harlfoxem/housesalesprediction) and governemnt zip code database. The primary dataset, King County housing dataset records sales prices of homes sold between May 2014 and May 2015 in King County. The complementary dataset, zip code dataset, contains US zip code and corresponding region names and geological information.\n",
    "\n",
    "My main goal is to build a reasonable model to predict housing prices using 19 house features given, and then try to interpret the result. But before that, I would like to explore the dataset through visualization, hypothesis testing, etc, in order to achieve some potentially useful conclusions. For example, the question that whether waterfront houses are often more expensive than non-waterfront houses, and the relationship between location of pricy houses and different districts. After completing this step, I use two versions of linear models (OLS and Lasso) to fit the data \n",
    "and then pick one that I think is more accurate.       "
   ]
  },
  {
   "cell_type": "code",
   "execution_count": 1,
   "metadata": {
    "collapsed": false,
    "deletable": true,
    "editable": true
   },
   "outputs": [],
   "source": [
    "from datascience import *\n",
    "import numpy as np\n",
    "import pandas as pd\n",
    "import seaborn as sns\n",
    "import matplotlib.pyplot as plots\n",
    "import statsmodels.api as sm\n",
    "from statsmodels.stats.outliers_influence import variance_inflation_factor\n",
    "from sklearn.model_selection import train_test_split  \n",
    "import warnings\n",
    "\n",
    "warnings.filterwarnings('ignore')\n",
    "\n",
    "plots.style.use('fivethirtyeight')\n",
    "%matplotlib inline"
   ]
  },
  {
   "cell_type": "markdown",
   "metadata": {
    "deletable": true,
    "editable": true
   },
   "source": [
    "# King County Housing dataset\n",
    "\n",
    "numerical variables: price, bedrooms, bathrooms, sqft_living, sqft_lot, floors, sqft_above, sqft_basement, sqft_living15, sqft_lot15\n",
    "\n",
    "categorical variables: waterfront, view, condition, grade\n",
    "\n",
    "other variables: id, date,yr_built, yr_renovated, zipcode, lat, long"
   ]
  },
  {
   "cell_type": "code",
   "execution_count": 2,
   "metadata": {
    "collapsed": false,
    "deletable": true,
    "editable": true
   },
   "outputs": [
    {
     "data": {
      "text/html": [
       "<table border=\"1\" class=\"dataframe\">\n",
       "    <thead>\n",
       "        <tr>\n",
       "            <th>id</th> <th>date</th> <th>price</th> <th>bedrooms</th> <th>bathrooms</th> <th>sqft_living</th> <th>sqft_lot</th> <th>floors</th> <th>waterfront</th> <th>view</th> <th>condition</th> <th>grade</th> <th>sqft_above</th> <th>sqft_basement</th> <th>yr_built</th> <th>yr_renovated</th> <th>zipcode</th> <th>lat</th> <th>long</th> <th>sqft_living15</th> <th>sqft_lot15</th>\n",
       "        </tr>\n",
       "    </thead>\n",
       "    <tbody>\n",
       "        <tr>\n",
       "            <td>7129300520</td> <td>20141013T000000</td> <td>221900</td> <td>3       </td> <td>1        </td> <td>1180       </td> <td>5650    </td> <td>1     </td> <td>0         </td> <td>0   </td> <td>3        </td> <td>7    </td> <td>1180      </td> <td>0            </td> <td>1955    </td> <td>0           </td> <td>98178  </td> <td>47.5112</td> <td>-122.257</td> <td>1340         </td> <td>5650      </td>\n",
       "        </tr>\n",
       "    </tbody>\n",
       "        <tr>\n",
       "            <td>6414100192</td> <td>20141209T000000</td> <td>538000</td> <td>3       </td> <td>2.25     </td> <td>2570       </td> <td>7242    </td> <td>2     </td> <td>0         </td> <td>0   </td> <td>3        </td> <td>7    </td> <td>2170      </td> <td>400          </td> <td>1951    </td> <td>1991        </td> <td>98125  </td> <td>47.721 </td> <td>-122.319</td> <td>1690         </td> <td>7639      </td>\n",
       "        </tr>\n",
       "    </tbody>\n",
       "        <tr>\n",
       "            <td>5631500400</td> <td>20150225T000000</td> <td>180000</td> <td>2       </td> <td>1        </td> <td>770        </td> <td>10000   </td> <td>1     </td> <td>0         </td> <td>0   </td> <td>3        </td> <td>6    </td> <td>770       </td> <td>0            </td> <td>1933    </td> <td>0           </td> <td>98028  </td> <td>47.7379</td> <td>-122.233</td> <td>2720         </td> <td>8062      </td>\n",
       "        </tr>\n",
       "    </tbody>\n",
       "        <tr>\n",
       "            <td>2487200875</td> <td>20141209T000000</td> <td>604000</td> <td>4       </td> <td>3        </td> <td>1960       </td> <td>5000    </td> <td>1     </td> <td>0         </td> <td>0   </td> <td>5        </td> <td>7    </td> <td>1050      </td> <td>910          </td> <td>1965    </td> <td>0           </td> <td>98136  </td> <td>47.5208</td> <td>-122.393</td> <td>1360         </td> <td>5000      </td>\n",
       "        </tr>\n",
       "    </tbody>\n",
       "        <tr>\n",
       "            <td>1954400510</td> <td>20150218T000000</td> <td>510000</td> <td>3       </td> <td>2        </td> <td>1680       </td> <td>8080    </td> <td>1     </td> <td>0         </td> <td>0   </td> <td>3        </td> <td>8    </td> <td>1680      </td> <td>0            </td> <td>1987    </td> <td>0           </td> <td>98074  </td> <td>47.6168</td> <td>-122.045</td> <td>1800         </td> <td>7503      </td>\n",
       "        </tr>\n",
       "    </tbody>\n",
       "</table>\n",
       "<p>... (21608 rows omitted)</p"
      ],
      "text/plain": [
       "<IPython.core.display.HTML object>"
      ]
     },
     "metadata": {},
     "output_type": "display_data"
    }
   ],
   "source": [
    "housing = Table.read_table('house_data.csv')\n",
    "housing.show(5)"
   ]
  },
  {
   "cell_type": "code",
   "execution_count": 3,
   "metadata": {
    "collapsed": false,
    "deletable": true,
    "editable": true
   },
   "outputs": [
    {
     "data": {
      "text/html": [
       "<table border=\"1\" class=\"dataframe\">\n",
       "    <thead>\n",
       "        <tr>\n",
       "            <th>description</th> <th>name</th> <th>PONAME</th> <th>ZIP</th> <th>latitude</th> <th>POP2001</th> <th>STATE</th> <th>AREA</th> <th>zip2</th> <th>longitude</th> <th>SUMBLKPOP</th> <th>geometry</th>\n",
       "        </tr>\n",
       "    </thead>\n",
       "    <tbody>\n",
       "        <tr>\n",
       "            <td>nan        </td> <td>Zip:</td> <td>MT MEADOWS AREA        </td> <td>12  </td> <td>40.2487 </td> <td>60     </td> <td>CA   </td> <td>44.9238</td> <td>12  </td> <td>-120.959 </td> <td>147      </td> <td><Polygon><outerBoundaryIs><LinearRing><coordinates>-120. ...</td>\n",
       "        </tr>\n",
       "    </tbody>\n",
       "        <tr>\n",
       "            <td>nan        </td> <td>Zip:</td> <td>WEST PIMA COUNTY       </td> <td>14  </td> <td>32.1846 </td> <td>80     </td> <td>AZ   </td> <td>1231.6 </td> <td>14  </td> <td>-113.026 </td> <td>83       </td> <td><Polygon><outerBoundaryIs><LinearRing><coordinates>-112. ...</td>\n",
       "        </tr>\n",
       "    </tbody>\n",
       "        <tr>\n",
       "            <td>nan        </td> <td>Zip:</td> <td>CORONADO NTL FOREST    </td> <td>15  </td> <td>32.3739 </td> <td>206    </td> <td>AZ   </td> <td>430.679</td> <td>15  </td> <td>-110.657 </td> <td>176      </td> <td><Polygon><outerBoundaryIs><LinearRing><coordinates>-110. ...</td>\n",
       "        </tr>\n",
       "    </tbody>\n",
       "        <tr>\n",
       "            <td>nan        </td> <td>Zip:</td> <td>SEQUOIA NATIONAL FOREST</td> <td>16  </td> <td>35.51   </td> <td>8      </td> <td>CA   </td> <td>124.153</td> <td>16  </td> <td>-118.357 </td> <td>8        </td> <td><Polygon><outerBoundaryIs><LinearRing><coordinates>-118. ...</td>\n",
       "        </tr>\n",
       "    </tbody>\n",
       "        <tr>\n",
       "            <td>nan        </td> <td>Zip:</td> <td>NORTHEAST FRESNO COUNTY</td> <td>17  </td> <td>37.1711 </td> <td>63     </td> <td>CA   </td> <td>1168.75</td> <td>17  </td> <td>-118.929 </td> <td>62       </td> <td><Polygon><outerBoundaryIs><LinearRing><coordinates>-119. ...</td>\n",
       "        </tr>\n",
       "    </tbody>\n",
       "</table>\n",
       "<p>... (29830 rows omitted)</p"
      ],
      "text/plain": [
       "<IPython.core.display.HTML object>"
      ]
     },
     "metadata": {},
     "output_type": "display_data"
    }
   ],
   "source": [
    "zip_code = Table.read_table('zip_codes.csv')\n",
    "zip_code.show(5)"
   ]
  },
  {
   "cell_type": "markdown",
   "metadata": {
    "deletable": true,
    "editable": true
   },
   "source": [
    "## Part I Visualization\n",
    "\n",
    "In this part, I would like visualize some single numerical variable and catogorical variable, as well as between two variables, in order to help discover some potential relationship among them."
   ]
  },
  {
   "cell_type": "code",
   "execution_count": 4,
   "metadata": {
    "collapsed": false,
    "deletable": true,
    "editable": true
   },
   "outputs": [
    {
     "data": {
      "image/png": "[encoded data removed]",
      "text/plain": [
       "<matplotlib.figure.Figure at 0x7fe494f01860>"
      ]
     },
     "metadata": {},
     "output_type": "display_data"
    }
   ],
   "source": [
    "# The distribution of price, our target variable\n",
    "bins = np.arange(100000, 2500000, 100000)\n",
    "housing.hist('price', bins = bins)"
   ]
  },
  {
   "cell_type": "code",
   "execution_count": 5,
   "metadata": {
    "collapsed": false,
    "deletable": true,
    "editable": true
   },
   "outputs": [
    {
     "name": "stdout",
     "output_type": "stream",
     "text": [
      "The mean of the variable is:  540088.141767\n"
     ]
    },
    {
     "data": {
      "text/plain": [
       "array([[ 321950.,  645000.]])"
      ]
     },
     "execution_count": 5,
     "metadata": {},
     "output_type": "execute_result"
    }
   ],
   "source": [
    "def IQR_and_mean(array):\n",
    "    print ('The mean of the variable is: ', np.mean(array))\n",
    "    return make_array([percentile(25,array), percentile(75,array)])\n",
    "\n",
    "IQR_and_mean(housing.column('price'))"
   ]
  },
  {
   "cell_type": "code",
   "execution_count": 6,
   "metadata": {
    "collapsed": false,
    "deletable": true,
    "editable": true
   },
   "outputs": [
    {
     "data": {
      "image/png": "[encoded data removed]",
      "text/plain": [
       "<matplotlib.figure.Figure at 0x7fe49cdf6320>"
      ]
     },
     "metadata": {},
     "output_type": "display_data"
    }
   ],
   "source": [
    "# want to see the relationship between price and sqft, plus waterfront\n",
    "housing.scatter('sqft_living', 'price', colors='waterfront')"
   ]
  },
  {
   "cell_type": "markdown",
   "metadata": {
    "deletable": true,
    "editable": true
   },
   "source": [
    "The plot displays a **positive** correlation between price and sqft_living, which quite matches our sense. However, the variance of price increases as living square footage increases. We do want to avoid this issue, becuase it could bring problems to our model.\n",
    "\n",
    "What we also could see from the graph is that waterfront houses are comparatively **more expensive** than non-waterfront houses as the yellow colored points float above blue points with the same sqft_living. This shows that a categorical variable can also affect our model, as the mean of each category could differ. To confirm this, I use group function to check their means and standard deviations."
   ]
  },
  {
   "cell_type": "code",
   "execution_count": 7,
   "metadata": {
    "collapsed": false,
    "deletable": true,
    "editable": true
   },
   "outputs": [
    {
     "data": {
      "text/html": [
       "<table border=\"1\" class=\"dataframe\">\n",
       "    <thead>\n",
       "        <tr>\n",
       "            <th>waterfront</th> <th>price mean</th> <th>price std</th>\n",
       "        </tr>\n",
       "    </thead>\n",
       "    <tbody>\n",
       "        <tr>\n",
       "            <td>0         </td> <td>531564     </td> <td>341592     </td>\n",
       "        </tr>\n",
       "    </tbody>\n",
       "        <tr>\n",
       "            <td>1         </td> <td>1.66188e+06</td> <td>1.11693e+06</td>\n",
       "        </tr>\n",
       "    </tbody>\n",
       "</table>"
      ],
      "text/plain": [
       "waterfront | price mean  | price std\n",
       "0          | 531564      | 341592\n",
       "1          | 1.66188e+06 | 1.11693e+06"
      ]
     },
     "execution_count": 7,
     "metadata": {},
     "output_type": "execute_result"
    }
   ],
   "source": [
    "w = housing.group('waterfront', collect = np.mean).select( 'waterfront', 'price mean').with_column('price std', housing.group('waterfront', np.std).column('price std'))\n",
    "w"
   ]
  },
  {
   "cell_type": "code",
   "execution_count": 8,
   "metadata": {
    "collapsed": false,
    "deletable": true,
    "editable": true
   },
   "outputs": [
    {
     "data": {
      "image/png": "[encoded data removed]",
      "text/plain": [
       "<matplotlib.figure.Figure at 0x7fe4625c1c18>"
      ]
     },
     "metadata": {},
     "output_type": "display_data"
    }
   ],
   "source": [
    "w.barh(0)"
   ]
  },
  {
   "cell_type": "markdown",
   "metadata": {
    "deletable": true,
    "editable": true
   },
   "source": [
    "Although the mean price of waterfront houses are much higher than non-waterfront houses, the variance is also higher. Therefore, we **cannot precisely tell** from the graph that whether there is a significant correlation between waterfront and house price, due to the reason of chance effect. \n",
    "\n",
    "\n"
   ]
  },
  {
   "cell_type": "code",
   "execution_count": 9,
   "metadata": {
    "collapsed": false,
    "deletable": true,
    "editable": true
   },
   "outputs": [
    {
     "data": {
      "image/png": "[encoded data removed]",
      "text/plain": [
       "<matplotlib.figure.Figure at 0x7fe45567a438>"
      ]
     },
     "metadata": {},
     "output_type": "display_data"
    }
   ],
   "source": [
    "housing.scatter('sqft_living', 'price', colors='view')"
   ]
  },
  {
   "cell_type": "code",
   "execution_count": 10,
   "metadata": {
    "collapsed": false,
    "deletable": true,
    "editable": true
   },
   "outputs": [
    {
     "data": {
      "text/html": [
       "<table border=\"1\" class=\"dataframe\">\n",
       "    <thead>\n",
       "        <tr>\n",
       "            <th>view</th> <th>price mean</th> <th>price std</th>\n",
       "        </tr>\n",
       "    </thead>\n",
       "    <tbody>\n",
       "        <tr>\n",
       "            <td>0   </td> <td>496564     </td> <td>287126   </td>\n",
       "        </tr>\n",
       "    </tbody>\n",
       "        <tr>\n",
       "            <td>1   </td> <td>812281     </td> <td>510180   </td>\n",
       "        </tr>\n",
       "    </tbody>\n",
       "        <tr>\n",
       "            <td>2   </td> <td>792401     </td> <td>509840   </td>\n",
       "        </tr>\n",
       "    </tbody>\n",
       "        <tr>\n",
       "            <td>3   </td> <td>971965     </td> <td>612091   </td>\n",
       "        </tr>\n",
       "    </tbody>\n",
       "        <tr>\n",
       "            <td>4   </td> <td>1.46371e+06</td> <td>950716   </td>\n",
       "        </tr>\n",
       "    </tbody>\n",
       "</table>"
      ],
      "text/plain": [
       "view | price mean  | price std\n",
       "0    | 496564      | 287126\n",
       "1    | 812281      | 510180\n",
       "2    | 792401      | 509840\n",
       "3    | 971965      | 612091\n",
       "4    | 1.46371e+06 | 950716"
      ]
     },
     "execution_count": 10,
     "metadata": {},
     "output_type": "execute_result"
    }
   ],
   "source": [
    "w2 = housing.group('view', np.mean).select( 'view', 'price mean').with_column('price std', housing.group('view', np.std).column('price std'))\n",
    "w2\n"
   ]
  },
  {
   "cell_type": "code",
   "execution_count": 11,
   "metadata": {
    "collapsed": false,
    "deletable": true,
    "editable": true
   },
   "outputs": [
    {
     "data": {
      "image/png": "[encoded data removed]",
      "text/plain": [
       "<matplotlib.figure.Figure at 0x7fe4613894e0>"
      ]
     },
     "metadata": {},
     "output_type": "display_data"
    }
   ],
   "source": [
    "w2.barh(0)"
   ]
  },
  {
   "cell_type": "markdown",
   "metadata": {
    "deletable": true,
    "editable": true
   },
   "source": [
    "However, we can see that both categorical variables lead to difference in mean price, but standard deviations are also different. We want to measure **whether the variable truly makes a difference in price, and therefore we need to run an experiment and make a hypothesis test**. Let's start from the variable **'waterfront'**."
   ]
  },
  {
   "cell_type": "markdown",
   "metadata": {
    "deletable": true,
    "editable": true
   },
   "source": [
    "## PART II: Hypothesis Testing: Being Waterfront\n",
    "\n",
    "H0: The waterfront = 0 or 1 does not influence mean housing price. mu1 - mu0 = 0\n",
    "\n",
    "Ha: The waterfront = 0 or 1 influences mean housing price. mu1 - mu0 != 0 \n",
    "\n",
    "The test statistic is difference in mean housing price of two categories: **mu1 - mu0**. The experiment principle is that if a house being waterfront has no influence over price, then by randomly assigning housing price to either category shall not cause too large difference in mean housing price in two categories."
   ]
  },
  {
   "cell_type": "code",
   "execution_count": 12,
   "metadata": {
    "collapsed": false,
    "deletable": true,
    "editable": true
   },
   "outputs": [],
   "source": [
    "## Original data\n",
    "price_view = housing.select('price', 'waterfront') \n",
    "test_stat = np.diff(price_view.group('waterfront', np.mean).column('price mean'))\n",
    "## function that resamples \n",
    "\n",
    "def random_assign(table):\n",
    "    new_price = table.select('price').sample(with_replacement = False).column('price')\n",
    "    return table.select('waterfront').with_column('price', new_price)\n",
    "def test(table):\n",
    "    test_statistics = make_array()\n",
    "    for i in np.arange(1000):\n",
    "        price_view_table = random_assign(table)\n",
    "        test_stat = np.diff(price_view_table.group('waterfront', np.mean).column('price mean'))\n",
    "        test_statistics = np.append(test_statistics, test_stat)\n",
    "    return test_statistics\n"
   ]
  },
  {
   "cell_type": "code",
   "execution_count": 13,
   "metadata": {
    "collapsed": false,
    "deletable": true,
    "editable": true
   },
   "outputs": [
    {
     "data": {
      "image/png": "[encoded data removed]",
      "text/plain": [
       "<matplotlib.figure.Figure at 0x7fe4555de668>"
      ]
     },
     "metadata": {},
     "output_type": "display_data"
    }
   ],
   "source": [
    "# plot histogram and calculate p-value\n",
    "diff_dist = test(price_view)\n",
    "Table().with_column('test statistics', diff_dist).hist()"
   ]
  },
  {
   "cell_type": "code",
   "execution_count": 14,
   "metadata": {
    "collapsed": false,
    "deletable": true,
    "editable": true
   },
   "outputs": [
    {
     "name": "stdout",
     "output_type": "stream",
     "text": [
      "The 95% confidence interval is : [[-54962.99677063  53975.96251634]] , and the our observed test statistics is:  [ 1130312.42472636]\n"
     ]
    }
   ],
   "source": [
    "## look at confidence interval, and make our conclusion\n",
    "confint = make_array([percentile(2.5,diff_dist), percentile(97.5,diff_dist)])\n",
    "obs_test_stat = np.diff(price_view.group('waterfront', np.mean).column('price mean'))\n",
    "print ('The 95% confidence interval is :' , confint , ', and the our observed test statistics is: ', obs_test_stat)"
   ]
  },
  {
   "cell_type": "markdown",
   "metadata": {
    "deletable": true,
    "editable": true
   },
   "source": [
    "### Conclusion:\n",
    "The observed difference is far **greater** than top bound of our interval, so we choose to reject the null hypothesis and conclude the fact that whether a house is waterfront **has a significant effect** on house price "
   ]
  },
  {
   "cell_type": "markdown",
   "metadata": {
    "collapsed": false,
    "deletable": true,
    "editable": true
   },
   "source": [
    "## Part III: Joins, Geographics and Housing Price "
   ]
  },
  {
   "cell_type": "code",
   "execution_count": 15,
   "metadata": {
    "collapsed": false,
    "deletable": true,
    "editable": true
   },
   "outputs": [],
   "source": [
    "## JOIN two datasets \n",
    "zip_select = zip_code.select('PONAME', 'ZIP', 'STATE', 'AREA')\n",
    "housing_location = housing.join('zipcode', zip_select, 'ZIP')"
   ]
  },
  {
   "cell_type": "code",
   "execution_count": 16,
   "metadata": {
    "collapsed": false,
    "deletable": true,
    "editable": true
   },
   "outputs": [
    {
     "data": {
      "text/html": [
       "<table border=\"1\" class=\"dataframe\">\n",
       "    <thead>\n",
       "        <tr>\n",
       "            <th>zipcode</th> <th>price</th> <th>PONAME</th> <th>STATE</th> <th>AREA</th>\n",
       "        </tr>\n",
       "    </thead>\n",
       "    <tbody>\n",
       "        <tr>\n",
       "            <td>98001  </td> <td>240000</td> <td>AUBURN</td> <td>WA   </td> <td>18.6218</td>\n",
       "        </tr>\n",
       "    </tbody>\n",
       "        <tr>\n",
       "            <td>98001  </td> <td>287000</td> <td>AUBURN</td> <td>WA   </td> <td>18.6218</td>\n",
       "        </tr>\n",
       "    </tbody>\n",
       "        <tr>\n",
       "            <td>98001  </td> <td>480000</td> <td>AUBURN</td> <td>WA   </td> <td>18.6218</td>\n",
       "        </tr>\n",
       "    </tbody>\n",
       "        <tr>\n",
       "            <td>98001  </td> <td>465000</td> <td>AUBURN</td> <td>WA   </td> <td>18.6218</td>\n",
       "        </tr>\n",
       "    </tbody>\n",
       "        <tr>\n",
       "            <td>98001  </td> <td>360000</td> <td>AUBURN</td> <td>WA   </td> <td>18.6218</td>\n",
       "        </tr>\n",
       "    </tbody>\n",
       "</table>\n",
       "<p>... (21154 rows omitted)</p"
      ],
      "text/plain": [
       "<IPython.core.display.HTML object>"
      ]
     },
     "metadata": {},
     "output_type": "display_data"
    }
   ],
   "source": [
    "housing_location.select('zipcode', 'price', 'PONAME', 'STATE', 'AREA').show(5)"
   ]
  },
  {
   "cell_type": "code",
   "execution_count": 17,
   "metadata": {
    "collapsed": false,
    "deletable": true,
    "editable": true
   },
   "outputs": [
    {
     "data": {
      "text/html": [
       "<table border=\"1\" class=\"dataframe\">\n",
       "    <thead>\n",
       "        <tr>\n",
       "            <th>STATE</th> <th>count</th>\n",
       "        </tr>\n",
       "    </thead>\n",
       "    <tbody>\n",
       "        <tr>\n",
       "            <td>WA   </td> <td>21159</td>\n",
       "        </tr>\n",
       "    </tbody>\n",
       "</table>"
      ],
      "text/plain": [
       "STATE | count\n",
       "WA    | 21159"
      ]
     },
     "execution_count": 17,
     "metadata": {},
     "output_type": "execute_result"
    }
   ],
   "source": [
    "## Pivot Table shows relationship between two categorical variables.\n",
    "housing_location.group('STATE')"
   ]
  },
  {
   "cell_type": "code",
   "execution_count": 18,
   "metadata": {
    "collapsed": false,
    "deletable": true,
    "editable": true
   },
   "outputs": [
    {
     "data": {
      "text/plain": [
       "False"
      ]
     },
     "execution_count": 18,
     "metadata": {},
     "output_type": "execute_result"
    }
   ],
   "source": [
    "housing_location.group('PONAME').num_rows == housing_location.group('zipcode').num_rows"
   ]
  },
  {
   "cell_type": "code",
   "execution_count": 19,
   "metadata": {
    "collapsed": false,
    "deletable": true,
    "editable": true
   },
   "outputs": [
    {
     "data": {
      "image/png": "[encoded data removed]",
      "text/plain": [
       "<matplotlib.figure.Figure at 0x7fe4555fd748>"
      ]
     },
     "metadata": {},
     "output_type": "display_data"
    }
   ],
   "source": [
    "price_by_district = housing_location.group('PONAME', np.mean).select('PONAME','price mean').sort('price mean', descending = True)\n",
    "price_by_district.barh(0)"
   ]
  },
  {
   "cell_type": "code",
   "execution_count": 20,
   "metadata": {
    "collapsed": false,
    "deletable": true,
    "editable": true
   },
   "outputs": [
    {
     "data": {
      "text/html": [
       "<iframe srcdoc=\"<!DOCTYPE html>\n",
       "<head>\n",
       "   <meta http-equiv=&quot;content-type&quot; content=&quot;text/html; charset=UTF-8&quot; />\n",
       "   <link rel=&quot;stylesheet&quot; href=&quot;https://cdnjs.cloudflare.com/ajax/libs/leaflet/0.7.3/leaflet.css&quot; />\n",
       "   <script src=&quot;https://cdnjs.cloudflare.com/ajax/libs/leaflet/0.7.3/leaflet.js&quot;></script>\n",
       "\n",
       "   <script src=&quot;https://ajax.googleapis.com/ajax/libs/jquery/1.11.1/jquery.min.js&quot;></script>\n",
       "\n",
       "   <link rel=&quot;stylesheet&quot; href=&quot;https://maxcdn.bootstrapcdn.com/bootstrap/3.2.0/css/bootstrap.min.css&quot;>\n",
       "   <link rel=&quot;stylesheet&quot; href=&quot;https://maxcdn.bootstrapcdn.com/bootstrap/3.2.0/css/bootstrap-theme.min.css&quot;>\n",
       "   <script src=&quot;https://maxcdn.bootstrapcdn.com/bootstrap/3.2.0/js/bootstrap.min.js&quot;></script>\n",
       "\n",
       "   <link href=&quot;https://maxcdn.bootstrapcdn.com/font-awesome/4.1.0/css/font-awesome.min.css&quot; rel=&quot;stylesheet&quot;>\n",
       "\n",
       "   <link rel=&quot;stylesheet&quot; href=&quot;https://rawgit.com/lvoogdt/Leaflet.awesome-markers/2.0/develop/dist/leaflet.awesome-markers.css&quot;>\n",
       "   <script src=&quot;https://rawgithub.com/lvoogdt/Leaflet.awesome-markers/2.0/develop/dist/leaflet.awesome-markers.js&quot;></script>\n",
       "\n",
       "\n",
       "   <link rel=&quot;stylesheet&quot; href=&quot;https://cdnjs.cloudflare.com/ajax/libs/leaflet.markercluster/0.4.0/MarkerCluster.Default.css&quot;>\n",
       "   <link rel=&quot;stylesheet&quot; href=&quot;https://cdnjs.cloudflare.com/ajax/libs/leaflet.markercluster/0.4.0/MarkerCluster.css&quot;>\n",
       "   <script src=&quot;https://cdnjs.cloudflare.com/ajax/libs/leaflet.markercluster/0.4.0/leaflet.markercluster-src.js&quot;></script>\n",
       "   <script src=&quot;https://cdnjs.cloudflare.com/ajax/libs/leaflet.markercluster/0.4.0/leaflet.markercluster.js&quot;></script>\n",
       "\n",
       "   <link rel=&quot;stylesheet&quot; href=&quot;https://birdage.github.io/Leaflet.awesome-markers/dist/leaflet.awesome.rotate.css&quot;>\n",
       "\n",
       "   \n",
       "   \n",
       "   \n",
       "   \n",
       "\n",
       "   <style>\n",
       "\n",
       "      html, body {\n",
       "        width: 100%;\n",
       "        height: 100%;\n",
       "        margin: 0;\n",
       "        padding: 0;\n",
       "      }\n",
       "\n",
       "      #map {\n",
       "        position:absolute;\n",
       "        top:0;\n",
       "        bottom:0;\n",
       "        right:0;\n",
       "        left:0;\n",
       "      }\n",
       "\n",
       "   </style>\n",
       "</head>\n",
       "\n",
       "<body>\n",
       "\n",
       "   <div class=&quot;folium-map&quot; id=&quot;folium_c5589d71bde4492b8ee6036a6be390c1&quot; style=&quot;width: 960px; height: 500px&quot;></div>\n",
       "\n",
       "   <script>\n",
       "\n",
       "      \n",
       "\n",
       "      var base_tile = L.tileLayer('https://{s}.tile.openstreetmap.org/{z}/{x}/{y}.png', {\n",
       "          maxZoom: 17,\n",
       "          minZoom: 8.0,\n",
       "          attribution: 'Map data (c) <a href=&quot;http://openstreetmap.org&quot;>OpenStreetMap</a> contributors'\n",
       "      });\n",
       "\n",
       "      var baseLayer = {\n",
       "        &quot;Base Layer&quot;: base_tile\n",
       "      };\n",
       "\n",
       "      /*\n",
       "      addition of the wms layers\n",
       "      */\n",
       "\n",
       "      \n",
       "\n",
       "      /*\n",
       "      addition of the tile layers\n",
       "      */\n",
       "      \n",
       "\n",
       "      /*\n",
       "      list of layers to be added\n",
       "      */\n",
       "      var layer_list = {\n",
       "      \n",
       "      };\n",
       "\n",
       "      /*\n",
       "      Bounding box.\n",
       "      */\n",
       "      var southWest = L.latLng(-90, -180),\n",
       "          northEast = L.latLng(90, 180),\n",
       "          bounds = L.latLngBounds(southWest, northEast);\n",
       "\n",
       "      /*\n",
       "      Creates the map and adds the selected layers\n",
       "      */\n",
       "      var map = L.map('folium_c5589d71bde4492b8ee6036a6be390c1', {\n",
       "                                       center:[47.64205, -122.24],\n",
       "                                       zoom: 10.0,\n",
       "                                       maxBounds: bounds,\n",
       "                                       layers: [base_tile]\n",
       "                                     });\n",
       "\n",
       "      L.control.layers(baseLayer, layer_list).addTo(map);\n",
       "\n",
       "      //cluster group\n",
       "      var clusteredmarkers = L.markerClusterGroup();\n",
       "      //section for adding clustered markers\n",
       "      \n",
       "      //add the clustered markers to the group anyway\n",
       "      map.addLayer(clusteredmarkers);\n",
       "\n",
       "      \n",
       "      var marker_1_icon = L.AwesomeMarkers.icon({ icon: 'info-sign',markerColor: 'blue',prefix: 'glyphicon',extraClasses: 'fa-rotate-0'});\n",
       "      var marker_1 = L.marker([47.6298, \n",
       "\t\t\t\t\t\t\t-122.323],\n",
       "\t\t\t\t\t\t\t{'icon':marker_1_icon}\n",
       "\t\t\t\t\t\t\t);\n",
       "      marker_1.bindPopup(&quot;SEATTLE&quot;);\n",
       "      marker_1._popup.options.maxWidth = 300;\n",
       "      map.addLayer(marker_1)\n",
       "      \n",
       "      var marker_2_icon = L.AwesomeMarkers.icon({ icon: 'info-sign',markerColor: 'blue',prefix: 'glyphicon',extraClasses: 'fa-rotate-0'});\n",
       "      var marker_2 = L.marker([47.65, \n",
       "\t\t\t\t\t\t\t-122.214],\n",
       "\t\t\t\t\t\t\t{'icon':marker_2_icon}\n",
       "\t\t\t\t\t\t\t);\n",
       "      marker_2.bindPopup(&quot;BELLEVUE&quot;);\n",
       "      marker_2._popup.options.maxWidth = 300;\n",
       "      map.addLayer(marker_2)\n",
       "      \n",
       "      var marker_3_icon = L.AwesomeMarkers.icon({ icon: 'info-sign',markerColor: 'blue',prefix: 'glyphicon',extraClasses: 'fa-rotate-0'});\n",
       "      var marker_3 = L.marker([47.6305, \n",
       "\t\t\t\t\t\t\t-122.24],\n",
       "\t\t\t\t\t\t\t{'icon':marker_3_icon}\n",
       "\t\t\t\t\t\t\t);\n",
       "      marker_3.bindPopup(&quot;MEDINA&quot;);\n",
       "      marker_3._popup.options.maxWidth = 300;\n",
       "      map.addLayer(marker_3)\n",
       "      \n",
       "      var marker_4_icon = L.AwesomeMarkers.icon({ icon: 'info-sign',markerColor: 'blue',prefix: 'glyphicon',extraClasses: 'fa-rotate-0'});\n",
       "      var marker_4 = L.marker([47.6289, \n",
       "\t\t\t\t\t\t\t-122.233],\n",
       "\t\t\t\t\t\t\t{'icon':marker_4_icon}\n",
       "\t\t\t\t\t\t\t);\n",
       "      marker_4.bindPopup(&quot;MEDINA&quot;);\n",
       "      marker_4._popup.options.maxWidth = 300;\n",
       "      map.addLayer(marker_4)\n",
       "      \n",
       "      var marker_5_icon = L.AwesomeMarkers.icon({ icon: 'info-sign',markerColor: 'blue',prefix: 'glyphicon',extraClasses: 'fa-rotate-0'});\n",
       "      var marker_5 = L.marker([47.6232, \n",
       "\t\t\t\t\t\t\t-122.22],\n",
       "\t\t\t\t\t\t\t{'icon':marker_5_icon}\n",
       "\t\t\t\t\t\t\t);\n",
       "      marker_5.bindPopup(&quot;BELLEVUE&quot;);\n",
       "      marker_5._popup.options.maxWidth = 300;\n",
       "      map.addLayer(marker_5)\n",
       "      \n",
       "      var marker_6_icon = L.AwesomeMarkers.icon({ icon: 'info-sign',markerColor: 'blue',prefix: 'glyphicon',extraClasses: 'fa-rotate-0'});\n",
       "      var marker_6 = L.marker([47.5631, \n",
       "\t\t\t\t\t\t\t-122.21],\n",
       "\t\t\t\t\t\t\t{'icon':marker_6_icon}\n",
       "\t\t\t\t\t\t\t);\n",
       "      marker_6.bindPopup(&quot;MERCER ISLAND&quot;);\n",
       "      marker_6._popup.options.maxWidth = 300;\n",
       "      map.addLayer(marker_6)\n",
       "      \n",
       "      var marker_7_icon = L.AwesomeMarkers.icon({ icon: 'info-sign',markerColor: 'blue',prefix: 'glyphicon',extraClasses: 'fa-rotate-0'});\n",
       "      var marker_7 = L.marker([47.6767, \n",
       "\t\t\t\t\t\t\t-122.211],\n",
       "\t\t\t\t\t\t\t{'icon':marker_7_icon}\n",
       "\t\t\t\t\t\t\t);\n",
       "      marker_7.bindPopup(&quot;KIRKLAND&quot;);\n",
       "      marker_7._popup.options.maxWidth = 300;\n",
       "      map.addLayer(marker_7)\n",
       "      \n",
       "      var marker_8_icon = L.AwesomeMarkers.icon({ icon: 'info-sign',markerColor: 'blue',prefix: 'glyphicon',extraClasses: 'fa-rotate-0'});\n",
       "      var marker_8 = L.marker([47.557, \n",
       "\t\t\t\t\t\t\t-122.21],\n",
       "\t\t\t\t\t\t\t{'icon':marker_8_icon}\n",
       "\t\t\t\t\t\t\t);\n",
       "      marker_8.bindPopup(&quot;MERCER ISLAND&quot;);\n",
       "      marker_8._popup.options.maxWidth = 300;\n",
       "      map.addLayer(marker_8)\n",
       "      \n",
       "      var marker_9_icon = L.AwesomeMarkers.icon({ icon: 'info-sign',markerColor: 'blue',prefix: 'glyphicon',extraClasses: 'fa-rotate-0'});\n",
       "      var marker_9 = L.marker([47.7493, \n",
       "\t\t\t\t\t\t\t-122.28],\n",
       "\t\t\t\t\t\t\t{'icon':marker_9_icon}\n",
       "\t\t\t\t\t\t\t);\n",
       "      marker_9.bindPopup(&quot;SEATTLE&quot;);\n",
       "      marker_9._popup.options.maxWidth = 300;\n",
       "      map.addLayer(marker_9)\n",
       "      \n",
       "      var marker_10_icon = L.AwesomeMarkers.icon({ icon: 'info-sign',markerColor: 'blue',prefix: 'glyphicon',extraClasses: 'fa-rotate-0'});\n",
       "      var marker_10 = L.marker([47.6208, \n",
       "\t\t\t\t\t\t\t-122.219],\n",
       "\t\t\t\t\t\t\t{'icon':marker_10_icon}\n",
       "\t\t\t\t\t\t\t);\n",
       "      marker_10.bindPopup(&quot;BELLEVUE&quot;);\n",
       "      marker_10._popup.options.maxWidth = 300;\n",
       "      map.addLayer(marker_10)\n",
       "      \n",
       "      var marker_11_icon = L.AwesomeMarkers.icon({ icon: 'info-sign',markerColor: 'blue',prefix: 'glyphicon',extraClasses: 'fa-rotate-0'});\n",
       "      var marker_11 = L.marker([47.5692, \n",
       "\t\t\t\t\t\t\t-122.189],\n",
       "\t\t\t\t\t\t\t{'icon':marker_11_icon}\n",
       "\t\t\t\t\t\t\t);\n",
       "      marker_11.bindPopup(&quot;BELLEVUE&quot;);\n",
       "      marker_11._popup.options.maxWidth = 300;\n",
       "      map.addLayer(marker_11)\n",
       "      \n",
       "      var marker_12_icon = L.AwesomeMarkers.icon({ icon: 'info-sign',markerColor: 'blue',prefix: 'glyphicon',extraClasses: 'fa-rotate-0'});\n",
       "      var marker_12 = L.marker([47.6151, \n",
       "\t\t\t\t\t\t\t-122.224],\n",
       "\t\t\t\t\t\t\t{'icon':marker_12_icon}\n",
       "\t\t\t\t\t\t\t);\n",
       "      marker_12.bindPopup(&quot;MEDINA&quot;);\n",
       "      marker_12._popup.options.maxWidth = 300;\n",
       "      map.addLayer(marker_12)\n",
       "      \n",
       "      var marker_13_icon = L.AwesomeMarkers.icon({ icon: 'info-sign',markerColor: 'blue',prefix: 'glyphicon',extraClasses: 'fa-rotate-0'});\n",
       "      var marker_13 = L.marker([47.585, \n",
       "\t\t\t\t\t\t\t-122.222],\n",
       "\t\t\t\t\t\t\t{'icon':marker_13_icon}\n",
       "\t\t\t\t\t\t\t);\n",
       "      marker_13.bindPopup(&quot;MERCER ISLAND&quot;);\n",
       "      marker_13._popup.options.maxWidth = 300;\n",
       "      map.addLayer(marker_13)\n",
       "      \n",
       "      var marker_14_icon = L.AwesomeMarkers.icon({ icon: 'info-sign',markerColor: 'blue',prefix: 'glyphicon',extraClasses: 'fa-rotate-0'});\n",
       "      var marker_14 = L.marker([47.7296, \n",
       "\t\t\t\t\t\t\t-122.37],\n",
       "\t\t\t\t\t\t\t{'icon':marker_14_icon}\n",
       "\t\t\t\t\t\t\t);\n",
       "      marker_14.bindPopup(&quot;SEATTLE&quot;);\n",
       "      marker_14._popup.options.maxWidth = 300;\n",
       "      map.addLayer(marker_14)\n",
       "      \n",
       "      var marker_15_icon = L.AwesomeMarkers.icon({ icon: 'info-sign',markerColor: 'blue',prefix: 'glyphicon',extraClasses: 'fa-rotate-0'});\n",
       "      var marker_15 = L.marker([47.6229, \n",
       "\t\t\t\t\t\t\t-122.22],\n",
       "\t\t\t\t\t\t\t{'icon':marker_15_icon}\n",
       "\t\t\t\t\t\t\t);\n",
       "      marker_15.bindPopup(&quot;BELLEVUE&quot;);\n",
       "      marker_15._popup.options.maxWidth = 300;\n",
       "      map.addLayer(marker_15)\n",
       "      \n",
       "      var marker_16_icon = L.AwesomeMarkers.icon({ icon: 'info-sign',markerColor: 'blue',prefix: 'glyphicon',extraClasses: 'fa-rotate-0'});\n",
       "      var marker_16 = L.marker([47.6395, \n",
       "\t\t\t\t\t\t\t-122.234],\n",
       "\t\t\t\t\t\t\t{'icon':marker_16_icon}\n",
       "\t\t\t\t\t\t\t);\n",
       "      marker_16.bindPopup(&quot;MEDINA&quot;);\n",
       "      marker_16._popup.options.maxWidth = 300;\n",
       "      map.addLayer(marker_16)\n",
       "      \n",
       "      var marker_17_icon = L.AwesomeMarkers.icon({ icon: 'info-sign',markerColor: 'blue',prefix: 'glyphicon',extraClasses: 'fa-rotate-0'});\n",
       "      var marker_17 = L.marker([47.6515, \n",
       "\t\t\t\t\t\t\t-122.277],\n",
       "\t\t\t\t\t\t\t{'icon':marker_17_icon}\n",
       "\t\t\t\t\t\t\t);\n",
       "      marker_17.bindPopup(&quot;SEATTLE&quot;);\n",
       "      marker_17._popup.options.maxWidth = 300;\n",
       "      map.addLayer(marker_17)\n",
       "      \n",
       "      var marker_18_icon = L.AwesomeMarkers.icon({ icon: 'info-sign',markerColor: 'blue',prefix: 'glyphicon',extraClasses: 'fa-rotate-0'});\n",
       "      var marker_18 = L.marker([47.6146, \n",
       "\t\t\t\t\t\t\t-122.213],\n",
       "\t\t\t\t\t\t\t{'icon':marker_18_icon}\n",
       "\t\t\t\t\t\t\t);\n",
       "      marker_18.bindPopup(&quot;BELLEVUE&quot;);\n",
       "      marker_18._popup.options.maxWidth = 300;\n",
       "      map.addLayer(marker_18)\n",
       "      \n",
       "      var marker_19_icon = L.AwesomeMarkers.icon({ icon: 'info-sign',markerColor: 'blue',prefix: 'glyphicon',extraClasses: 'fa-rotate-0'});\n",
       "      var marker_19 = L.marker([47.6409, \n",
       "\t\t\t\t\t\t\t-122.241],\n",
       "\t\t\t\t\t\t\t{'icon':marker_19_icon}\n",
       "\t\t\t\t\t\t\t);\n",
       "      marker_19.bindPopup(&quot;MEDINA&quot;);\n",
       "      marker_19._popup.options.maxWidth = 300;\n",
       "      map.addLayer(marker_19)\n",
       "      \n",
       "      var marker_20_icon = L.AwesomeMarkers.icon({ icon: 'info-sign',markerColor: 'blue',prefix: 'glyphicon',extraClasses: 'fa-rotate-0'});\n",
       "      var marker_20 = L.marker([47.6165, \n",
       "\t\t\t\t\t\t\t-122.236],\n",
       "\t\t\t\t\t\t\t{'icon':marker_20_icon}\n",
       "\t\t\t\t\t\t\t);\n",
       "      marker_20.bindPopup(&quot;MEDINA&quot;);\n",
       "      marker_20._popup.options.maxWidth = 300;\n",
       "      map.addLayer(marker_20)\n",
       "      \n",
       "      var marker_21_icon = L.AwesomeMarkers.icon({ icon: 'info-sign',markerColor: 'blue',prefix: 'glyphicon',extraClasses: 'fa-rotate-0'});\n",
       "      var marker_21 = L.marker([47.5925, \n",
       "\t\t\t\t\t\t\t-122.287],\n",
       "\t\t\t\t\t\t\t{'icon':marker_21_icon}\n",
       "\t\t\t\t\t\t\t);\n",
       "      marker_21.bindPopup(&quot;SEATTLE&quot;);\n",
       "      marker_21._popup.options.maxWidth = 300;\n",
       "      map.addLayer(marker_21)\n",
       "      \n",
       "      var marker_22_icon = L.AwesomeMarkers.icon({ icon: 'info-sign',markerColor: 'blue',prefix: 'glyphicon',extraClasses: 'fa-rotate-0'});\n",
       "      var marker_22 = L.marker([47.5943, \n",
       "\t\t\t\t\t\t\t-122.11],\n",
       "\t\t\t\t\t\t\t{'icon':marker_22_icon}\n",
       "\t\t\t\t\t\t\t);\n",
       "      marker_22.bindPopup(&quot;BELLEVUE&quot;);\n",
       "      marker_22._popup.options.maxWidth = 300;\n",
       "      map.addLayer(marker_22)\n",
       "      \n",
       "      var marker_23_icon = L.AwesomeMarkers.icon({ icon: 'info-sign',markerColor: 'blue',prefix: 'glyphicon',extraClasses: 'fa-rotate-0'});\n",
       "      var marker_23 = L.marker([47.6209, \n",
       "\t\t\t\t\t\t\t-122.237],\n",
       "\t\t\t\t\t\t\t{'icon':marker_23_icon}\n",
       "\t\t\t\t\t\t\t);\n",
       "      marker_23.bindPopup(&quot;MEDINA&quot;);\n",
       "      marker_23._popup.options.maxWidth = 300;\n",
       "      map.addLayer(marker_23)\n",
       "      \n",
       "      var marker_24_icon = L.AwesomeMarkers.icon({ icon: 'info-sign',markerColor: 'blue',prefix: 'glyphicon',extraClasses: 'fa-rotate-0'});\n",
       "      var marker_24 = L.marker([47.638, \n",
       "\t\t\t\t\t\t\t-122.288],\n",
       "\t\t\t\t\t\t\t{'icon':marker_24_icon}\n",
       "\t\t\t\t\t\t\t);\n",
       "      marker_24.bindPopup(&quot;SEATTLE&quot;);\n",
       "      marker_24._popup.options.maxWidth = 300;\n",
       "      map.addLayer(marker_24)\n",
       "      \n",
       "      var marker_25_icon = L.AwesomeMarkers.icon({ icon: 'info-sign',markerColor: 'blue',prefix: 'glyphicon',extraClasses: 'fa-rotate-0'});\n",
       "      var marker_25 = L.marker([47.5348, \n",
       "\t\t\t\t\t\t\t-122.243],\n",
       "\t\t\t\t\t\t\t{'icon':marker_25_icon}\n",
       "\t\t\t\t\t\t\t);\n",
       "      marker_25.bindPopup(&quot;MERCER ISLAND&quot;);\n",
       "      marker_25._popup.options.maxWidth = 300;\n",
       "      map.addLayer(marker_25)\n",
       "      \n",
       "      var marker_26_icon = L.AwesomeMarkers.icon({ icon: 'info-sign',markerColor: 'blue',prefix: 'glyphicon',extraClasses: 'fa-rotate-0'});\n",
       "      var marker_26 = L.marker([47.6967, \n",
       "\t\t\t\t\t\t\t-122.216],\n",
       "\t\t\t\t\t\t\t{'icon':marker_26_icon}\n",
       "\t\t\t\t\t\t\t);\n",
       "      marker_26.bindPopup(&quot;KIRKLAND&quot;);\n",
       "      marker_26._popup.options.maxWidth = 300;\n",
       "      map.addLayer(marker_26)\n",
       "      \n",
       "      var marker_27_icon = L.AwesomeMarkers.icon({ icon: 'info-sign',markerColor: 'blue',prefix: 'glyphicon',extraClasses: 'fa-rotate-0'});\n",
       "      var marker_27 = L.marker([47.648, \n",
       "\t\t\t\t\t\t\t-122.218],\n",
       "\t\t\t\t\t\t\t{'icon':marker_27_icon}\n",
       "\t\t\t\t\t\t\t);\n",
       "      marker_27.bindPopup(&quot;BELLEVUE&quot;);\n",
       "      marker_27._popup.options.maxWidth = 300;\n",
       "      map.addLayer(marker_27)\n",
       "      \n",
       "      var marker_28_icon = L.AwesomeMarkers.icon({ icon: 'info-sign',markerColor: 'blue',prefix: 'glyphicon',extraClasses: 'fa-rotate-0'});\n",
       "      var marker_28 = L.marker([47.6263, \n",
       "\t\t\t\t\t\t\t-122.314],\n",
       "\t\t\t\t\t\t\t{'icon':marker_28_icon}\n",
       "\t\t\t\t\t\t\t);\n",
       "      marker_28.bindPopup(&quot;SEATTLE&quot;);\n",
       "      marker_28._popup.options.maxWidth = 300;\n",
       "      map.addLayer(marker_28)\n",
       "      \n",
       "      var marker_29_icon = L.AwesomeMarkers.icon({ icon: 'info-sign',markerColor: 'blue',prefix: 'glyphicon',extraClasses: 'fa-rotate-0'});\n",
       "      var marker_29 = L.marker([47.6083, \n",
       "\t\t\t\t\t\t\t-122.11],\n",
       "\t\t\t\t\t\t\t{'icon':marker_29_icon}\n",
       "\t\t\t\t\t\t\t);\n",
       "      marker_29.bindPopup(&quot;BELLEVUE&quot;);\n",
       "      marker_29._popup.options.maxWidth = 300;\n",
       "      map.addLayer(marker_29)\n",
       "      \n",
       "      var marker_30_icon = L.AwesomeMarkers.icon({ icon: 'info-sign',markerColor: 'blue',prefix: 'glyphicon',extraClasses: 'fa-rotate-0'});\n",
       "      var marker_30 = L.marker([47.605, \n",
       "\t\t\t\t\t\t\t-122.112],\n",
       "\t\t\t\t\t\t\t{'icon':marker_30_icon}\n",
       "\t\t\t\t\t\t\t);\n",
       "      marker_30.bindPopup(&quot;BELLEVUE&quot;);\n",
       "      marker_30._popup.options.maxWidth = 300;\n",
       "      map.addLayer(marker_30)\n",
       "      \n",
       "\n",
       "      \n",
       "\n",
       "      \n",
       "\n",
       "      \n",
       "\n",
       "      \n",
       "\n",
       "      \n",
       "\n",
       "\n",
       "\n",
       "   </script>\n",
       "\n",
       "</body>\" style=\"width: 960px; height: 500px\"; border: none\"></iframe>"
      ],
      "text/plain": [
       "<datascience.maps.Map at 0x7fe454018d68>"
      ]
     },
     "execution_count": 20,
     "metadata": {},
     "output_type": "execute_result"
    }
   ],
   "source": [
    "## Lets plot the top ten expensive house and lowest ten expensive house on the map\n",
    "\n",
    "top_30 = housing_location.sort('price', descending= True). take(np.arange(30)).select('zipcode', 'price', 'lat', 'long','PONAME', 'STATE', 'AREA')\n",
    "top_30\n",
    "Marker.map_table(top_30.select('lat', 'long', 'PONAME'))"
   ]
  },
  {
   "cell_type": "code",
   "execution_count": 21,
   "metadata": {
    "collapsed": false,
    "deletable": true,
    "editable": true
   },
   "outputs": [
    {
     "data": {
      "text/html": [
       "<iframe srcdoc=\"<!DOCTYPE html>\n",
       "<head>\n",
       "   <meta http-equiv=&quot;content-type&quot; content=&quot;text/html; charset=UTF-8&quot; />\n",
       "   <link rel=&quot;stylesheet&quot; href=&quot;https://cdnjs.cloudflare.com/ajax/libs/leaflet/0.7.3/leaflet.css&quot; />\n",
       "   <script src=&quot;https://cdnjs.cloudflare.com/ajax/libs/leaflet/0.7.3/leaflet.js&quot;></script>\n",
       "\n",
       "   <script src=&quot;https://ajax.googleapis.com/ajax/libs/jquery/1.11.1/jquery.min.js&quot;></script>\n",
       "\n",
       "   <link rel=&quot;stylesheet&quot; href=&quot;https://maxcdn.bootstrapcdn.com/bootstrap/3.2.0/css/bootstrap.min.css&quot;>\n",
       "   <link rel=&quot;stylesheet&quot; href=&quot;https://maxcdn.bootstrapcdn.com/bootstrap/3.2.0/css/bootstrap-theme.min.css&quot;>\n",
       "   <script src=&quot;https://maxcdn.bootstrapcdn.com/bootstrap/3.2.0/js/bootstrap.min.js&quot;></script>\n",
       "\n",
       "   <link href=&quot;https://maxcdn.bootstrapcdn.com/font-awesome/4.1.0/css/font-awesome.min.css&quot; rel=&quot;stylesheet&quot;>\n",
       "\n",
       "   <link rel=&quot;stylesheet&quot; href=&quot;https://rawgit.com/lvoogdt/Leaflet.awesome-markers/2.0/develop/dist/leaflet.awesome-markers.css&quot;>\n",
       "   <script src=&quot;https://rawgithub.com/lvoogdt/Leaflet.awesome-markers/2.0/develop/dist/leaflet.awesome-markers.js&quot;></script>\n",
       "\n",
       "\n",
       "   <link rel=&quot;stylesheet&quot; href=&quot;https://cdnjs.cloudflare.com/ajax/libs/leaflet.markercluster/0.4.0/MarkerCluster.Default.css&quot;>\n",
       "   <link rel=&quot;stylesheet&quot; href=&quot;https://cdnjs.cloudflare.com/ajax/libs/leaflet.markercluster/0.4.0/MarkerCluster.css&quot;>\n",
       "   <script src=&quot;https://cdnjs.cloudflare.com/ajax/libs/leaflet.markercluster/0.4.0/leaflet.markercluster-src.js&quot;></script>\n",
       "   <script src=&quot;https://cdnjs.cloudflare.com/ajax/libs/leaflet.markercluster/0.4.0/leaflet.markercluster.js&quot;></script>\n",
       "\n",
       "   <link rel=&quot;stylesheet&quot; href=&quot;https://birdage.github.io/Leaflet.awesome-markers/dist/leaflet.awesome.rotate.css&quot;>\n",
       "\n",
       "   \n",
       "   \n",
       "   \n",
       "   \n",
       "\n",
       "   <style>\n",
       "\n",
       "      html, body {\n",
       "        width: 100%;\n",
       "        height: 100%;\n",
       "        margin: 0;\n",
       "        padding: 0;\n",
       "      }\n",
       "\n",
       "      #map {\n",
       "        position:absolute;\n",
       "        top:0;\n",
       "        bottom:0;\n",
       "        right:0;\n",
       "        left:0;\n",
       "      }\n",
       "\n",
       "   </style>\n",
       "</head>\n",
       "\n",
       "<body>\n",
       "\n",
       "   <div class=&quot;folium-map&quot; id=&quot;folium_9011199f0ea94428a5d3c81222a221a9&quot; style=&quot;width: 960px; height: 500px&quot;></div>\n",
       "\n",
       "   <script>\n",
       "\n",
       "      \n",
       "\n",
       "      var base_tile = L.tileLayer('https://{s}.tile.openstreetmap.org/{z}/{x}/{y}.png', {\n",
       "          maxZoom: 17,\n",
       "          minZoom: 8.0,\n",
       "          attribution: 'Map data (c) <a href=&quot;http://openstreetmap.org&quot;>OpenStreetMap</a> contributors'\n",
       "      });\n",
       "\n",
       "      var baseLayer = {\n",
       "        &quot;Base Layer&quot;: base_tile\n",
       "      };\n",
       "\n",
       "      /*\n",
       "      addition of the wms layers\n",
       "      */\n",
       "\n",
       "      \n",
       "\n",
       "      /*\n",
       "      addition of the tile layers\n",
       "      */\n",
       "      \n",
       "\n",
       "      /*\n",
       "      list of layers to be added\n",
       "      */\n",
       "      var layer_list = {\n",
       "      \n",
       "      };\n",
       "\n",
       "      /*\n",
       "      Bounding box.\n",
       "      */\n",
       "      var southWest = L.latLng(-90, -180),\n",
       "          northEast = L.latLng(90, 180),\n",
       "          bounds = L.latLngBounds(southWest, northEast);\n",
       "\n",
       "      /*\n",
       "      Creates the map and adds the selected layers\n",
       "      */\n",
       "      var map = L.map('folium_9011199f0ea94428a5d3c81222a221a9', {\n",
       "                                       center:[47.49945, -122.1345],\n",
       "                                       zoom: 10.0,\n",
       "                                       maxBounds: bounds,\n",
       "                                       layers: [base_tile]\n",
       "                                     });\n",
       "\n",
       "      L.control.layers(baseLayer, layer_list).addTo(map);\n",
       "\n",
       "      //cluster group\n",
       "      var clusteredmarkers = L.markerClusterGroup();\n",
       "      //section for adding clustered markers\n",
       "      \n",
       "      //add the clustered markers to the group anyway\n",
       "      map.addLayer(clusteredmarkers);\n",
       "\n",
       "      \n",
       "      var marker_1_icon = L.AwesomeMarkers.icon({ icon: 'info-sign',markerColor: 'blue',prefix: 'glyphicon',extraClasses: 'fa-rotate-0'});\n",
       "      var marker_1 = L.marker([47.2638, \n",
       "\t\t\t\t\t\t\t-121.906],\n",
       "\t\t\t\t\t\t\t{'icon':marker_1_icon}\n",
       "\t\t\t\t\t\t\t);\n",
       "      marker_1.bindPopup(&quot;ENUMCLAW&quot;);\n",
       "      marker_1._popup.options.maxWidth = 300;\n",
       "      map.addLayer(marker_1)\n",
       "      \n",
       "      var marker_2_icon = L.AwesomeMarkers.icon({ icon: 'info-sign',markerColor: 'blue',prefix: 'glyphicon',extraClasses: 'fa-rotate-0'});\n",
       "      var marker_2 = L.marker([47.4739, \n",
       "\t\t\t\t\t\t\t-122.28],\n",
       "\t\t\t\t\t\t\t{'icon':marker_2_icon}\n",
       "\t\t\t\t\t\t\t);\n",
       "      marker_2.bindPopup(&quot;SEATTLE&quot;);\n",
       "      marker_2._popup.options.maxWidth = 300;\n",
       "      map.addLayer(marker_2)\n",
       "      \n",
       "      var marker_3_icon = L.AwesomeMarkers.icon({ icon: 'info-sign',markerColor: 'blue',prefix: 'glyphicon',extraClasses: 'fa-rotate-0'});\n",
       "      var marker_3 = L.marker([47.6499, \n",
       "\t\t\t\t\t\t\t-121.909],\n",
       "\t\t\t\t\t\t\t{'icon':marker_3_icon}\n",
       "\t\t\t\t\t\t\t);\n",
       "      marker_3.bindPopup(&quot;CARNATION&quot;);\n",
       "      marker_3._popup.options.maxWidth = 300;\n",
       "      map.addLayer(marker_3)\n",
       "      \n",
       "      var marker_4_icon = L.AwesomeMarkers.icon({ icon: 'info-sign',markerColor: 'blue',prefix: 'glyphicon',extraClasses: 'fa-rotate-0'});\n",
       "      var marker_4 = L.marker([47.4808, \n",
       "\t\t\t\t\t\t\t-122.315],\n",
       "\t\t\t\t\t\t\t{'icon':marker_4_icon}\n",
       "\t\t\t\t\t\t\t);\n",
       "      marker_4.bindPopup(&quot;SEATTLE&quot;);\n",
       "      marker_4._popup.options.maxWidth = 300;\n",
       "      map.addLayer(marker_4)\n",
       "      \n",
       "      var marker_5_icon = L.AwesomeMarkers.icon({ icon: 'info-sign',markerColor: 'blue',prefix: 'glyphicon',extraClasses: 'fa-rotate-0'});\n",
       "      var marker_5 = L.marker([47.4987, \n",
       "\t\t\t\t\t\t\t-122.341],\n",
       "\t\t\t\t\t\t\t{'icon':marker_5_icon}\n",
       "\t\t\t\t\t\t\t);\n",
       "      marker_5.bindPopup(&quot;SEATTLE&quot;);\n",
       "      marker_5._popup.options.maxWidth = 300;\n",
       "      map.addLayer(marker_5)\n",
       "      \n",
       "      var marker_6_icon = L.AwesomeMarkers.icon({ icon: 'info-sign',markerColor: 'blue',prefix: 'glyphicon',extraClasses: 'fa-rotate-0'});\n",
       "      var marker_6 = L.marker([47.4799, \n",
       "\t\t\t\t\t\t\t-122.296],\n",
       "\t\t\t\t\t\t\t{'icon':marker_6_icon}\n",
       "\t\t\t\t\t\t\t);\n",
       "      marker_6.bindPopup(&quot;SEATTLE&quot;);\n",
       "      marker_6._popup.options.maxWidth = 300;\n",
       "      map.addLayer(marker_6)\n",
       "      \n",
       "      var marker_7_icon = L.AwesomeMarkers.icon({ icon: 'info-sign',markerColor: 'blue',prefix: 'glyphicon',extraClasses: 'fa-rotate-0'});\n",
       "      var marker_7 = L.marker([47.4727, \n",
       "\t\t\t\t\t\t\t-122.27],\n",
       "\t\t\t\t\t\t\t{'icon':marker_7_icon}\n",
       "\t\t\t\t\t\t\t);\n",
       "      marker_7.bindPopup(&quot;SEATTLE&quot;);\n",
       "      marker_7._popup.options.maxWidth = 300;\n",
       "      map.addLayer(marker_7)\n",
       "      \n",
       "      var marker_8_icon = L.AwesomeMarkers.icon({ icon: 'info-sign',markerColor: 'blue',prefix: 'glyphicon',extraClasses: 'fa-rotate-0'});\n",
       "      var marker_8 = L.marker([47.4752, \n",
       "\t\t\t\t\t\t\t-122.271],\n",
       "\t\t\t\t\t\t\t{'icon':marker_8_icon}\n",
       "\t\t\t\t\t\t\t);\n",
       "      marker_8.bindPopup(&quot;SEATTLE&quot;);\n",
       "      marker_8._popup.options.maxWidth = 300;\n",
       "      map.addLayer(marker_8)\n",
       "      \n",
       "      var marker_9_icon = L.AwesomeMarkers.icon({ icon: 'info-sign',markerColor: 'blue',prefix: 'glyphicon',extraClasses: 'fa-rotate-0'});\n",
       "      var marker_9 = L.marker([47.3813, \n",
       "\t\t\t\t\t\t\t-122.243],\n",
       "\t\t\t\t\t\t\t{'icon':marker_9_icon}\n",
       "\t\t\t\t\t\t\t);\n",
       "      marker_9.bindPopup(&quot;KENT&quot;);\n",
       "      marker_9._popup.options.maxWidth = 300;\n",
       "      map.addLayer(marker_9)\n",
       "      \n",
       "      var marker_10_icon = L.AwesomeMarkers.icon({ icon: 'info-sign',markerColor: 'blue',prefix: 'glyphicon',extraClasses: 'fa-rotate-0'});\n",
       "      var marker_10 = L.marker([47.3897, \n",
       "\t\t\t\t\t\t\t-122.236],\n",
       "\t\t\t\t\t\t\t{'icon':marker_10_icon}\n",
       "\t\t\t\t\t\t\t);\n",
       "      marker_10.bindPopup(&quot;KENT&quot;);\n",
       "      marker_10._popup.options.maxWidth = 300;\n",
       "      map.addLayer(marker_10)\n",
       "      \n",
       "      var marker_11_icon = L.AwesomeMarkers.icon({ icon: 'info-sign',markerColor: 'blue',prefix: 'glyphicon',extraClasses: 'fa-rotate-0'});\n",
       "      var marker_11 = L.marker([47.3277, \n",
       "\t\t\t\t\t\t\t-122.341],\n",
       "\t\t\t\t\t\t\t{'icon':marker_11_icon}\n",
       "\t\t\t\t\t\t\t);\n",
       "      marker_11.bindPopup(&quot;FEDERAL WAY&quot;);\n",
       "      marker_11._popup.options.maxWidth = 300;\n",
       "      map.addLayer(marker_11)\n",
       "      \n",
       "      var marker_12_icon = L.AwesomeMarkers.icon({ icon: 'info-sign',markerColor: 'blue',prefix: 'glyphicon',extraClasses: 'fa-rotate-0'});\n",
       "      var marker_12 = L.marker([47.3026, \n",
       "\t\t\t\t\t\t\t-122.363],\n",
       "\t\t\t\t\t\t\t{'icon':marker_12_icon}\n",
       "\t\t\t\t\t\t\t);\n",
       "      marker_12.bindPopup(&quot;FEDERAL WAY&quot;);\n",
       "      marker_12._popup.options.maxWidth = 300;\n",
       "      map.addLayer(marker_12)\n",
       "      \n",
       "      var marker_13_icon = L.AwesomeMarkers.icon({ icon: 'info-sign',markerColor: 'blue',prefix: 'glyphicon',extraClasses: 'fa-rotate-0'});\n",
       "      var marker_13 = L.marker([47.5098, \n",
       "\t\t\t\t\t\t\t-122.334],\n",
       "\t\t\t\t\t\t\t{'icon':marker_13_icon}\n",
       "\t\t\t\t\t\t\t);\n",
       "      marker_13.bindPopup(&quot;SEATTLE&quot;);\n",
       "      marker_13._popup.options.maxWidth = 300;\n",
       "      map.addLayer(marker_13)\n",
       "      \n",
       "      var marker_14_icon = L.AwesomeMarkers.icon({ icon: 'info-sign',markerColor: 'blue',prefix: 'glyphicon',extraClasses: 'fa-rotate-0'});\n",
       "      var marker_14 = L.marker([47.7351, \n",
       "\t\t\t\t\t\t\t-122.178],\n",
       "\t\t\t\t\t\t\t{'icon':marker_14_icon}\n",
       "\t\t\t\t\t\t\t);\n",
       "      marker_14.bindPopup(&quot;KIRKLAND&quot;);\n",
       "      marker_14._popup.options.maxWidth = 300;\n",
       "      map.addLayer(marker_14)\n",
       "      \n",
       "      var marker_15_icon = L.AwesomeMarkers.icon({ icon: 'info-sign',markerColor: 'blue',prefix: 'glyphicon',extraClasses: 'fa-rotate-0'});\n",
       "      var marker_15 = L.marker([47.317, \n",
       "\t\t\t\t\t\t\t-122.182],\n",
       "\t\t\t\t\t\t\t{'icon':marker_15_icon}\n",
       "\t\t\t\t\t\t\t);\n",
       "      marker_15.bindPopup(&quot;AUBURN&quot;);\n",
       "      marker_15._popup.options.maxWidth = 300;\n",
       "      map.addLayer(marker_15)\n",
       "      \n",
       "      var marker_16_icon = L.AwesomeMarkers.icon({ icon: 'info-sign',markerColor: 'blue',prefix: 'glyphicon',extraClasses: 'fa-rotate-0'});\n",
       "      var marker_16 = L.marker([47.5335, \n",
       "\t\t\t\t\t\t\t-122.348],\n",
       "\t\t\t\t\t\t\t{'icon':marker_16_icon}\n",
       "\t\t\t\t\t\t\t);\n",
       "      marker_16.bindPopup(&quot;SEATTLE&quot;);\n",
       "      marker_16._popup.options.maxWidth = 300;\n",
       "      map.addLayer(marker_16)\n",
       "      \n",
       "      var marker_17_icon = L.AwesomeMarkers.icon({ icon: 'info-sign',markerColor: 'blue',prefix: 'glyphicon',extraClasses: 'fa-rotate-0'});\n",
       "      var marker_17 = L.marker([47.5424, \n",
       "\t\t\t\t\t\t\t-122.321],\n",
       "\t\t\t\t\t\t\t{'icon':marker_17_icon}\n",
       "\t\t\t\t\t\t\t);\n",
       "      marker_17.bindPopup(&quot;SEATTLE&quot;);\n",
       "      marker_17._popup.options.maxWidth = 300;\n",
       "      map.addLayer(marker_17)\n",
       "      \n",
       "      var marker_18_icon = L.AwesomeMarkers.icon({ icon: 'info-sign',markerColor: 'blue',prefix: 'glyphicon',extraClasses: 'fa-rotate-0'});\n",
       "      var marker_18 = L.marker([47.4852, \n",
       "\t\t\t\t\t\t\t-122.251],\n",
       "\t\t\t\t\t\t\t{'icon':marker_18_icon}\n",
       "\t\t\t\t\t\t\t);\n",
       "      marker_18.bindPopup(&quot;SEATTLE&quot;);\n",
       "      marker_18._popup.options.maxWidth = 300;\n",
       "      map.addLayer(marker_18)\n",
       "      \n",
       "      var marker_19_icon = L.AwesomeMarkers.icon({ icon: 'info-sign',markerColor: 'blue',prefix: 'glyphicon',extraClasses: 'fa-rotate-0'});\n",
       "      var marker_19 = L.marker([47.5045, \n",
       "\t\t\t\t\t\t\t-122.329],\n",
       "\t\t\t\t\t\t\t{'icon':marker_19_icon}\n",
       "\t\t\t\t\t\t\t);\n",
       "      marker_19.bindPopup(&quot;SEATTLE&quot;);\n",
       "      marker_19._popup.options.maxWidth = 300;\n",
       "      map.addLayer(marker_19)\n",
       "      \n",
       "      var marker_20_icon = L.AwesomeMarkers.icon({ icon: 'info-sign',markerColor: 'blue',prefix: 'glyphicon',extraClasses: 'fa-rotate-0'});\n",
       "      var marker_20 = L.marker([47.3046, \n",
       "\t\t\t\t\t\t\t-122.215],\n",
       "\t\t\t\t\t\t\t{'icon':marker_20_icon}\n",
       "\t\t\t\t\t\t\t);\n",
       "      marker_20.bindPopup(&quot;AUBURN&quot;);\n",
       "      marker_20._popup.options.maxWidth = 300;\n",
       "      map.addLayer(marker_20)\n",
       "      \n",
       "      var marker_21_icon = L.AwesomeMarkers.icon({ icon: 'info-sign',markerColor: 'blue',prefix: 'glyphicon',extraClasses: 'fa-rotate-0'});\n",
       "      var marker_21 = L.marker([47.4338, \n",
       "\t\t\t\t\t\t\t-122.183],\n",
       "\t\t\t\t\t\t\t{'icon':marker_21_icon}\n",
       "\t\t\t\t\t\t\t);\n",
       "      marker_21.bindPopup(&quot;RENTON&quot;);\n",
       "      marker_21._popup.options.maxWidth = 300;\n",
       "      map.addLayer(marker_21)\n",
       "      \n",
       "      var marker_22_icon = L.AwesomeMarkers.icon({ icon: 'info-sign',markerColor: 'blue',prefix: 'glyphicon',extraClasses: 'fa-rotate-0'});\n",
       "      var marker_22 = L.marker([47.4075, \n",
       "\t\t\t\t\t\t\t-122.294],\n",
       "\t\t\t\t\t\t\t{'icon':marker_22_icon}\n",
       "\t\t\t\t\t\t\t);\n",
       "      marker_22.bindPopup(&quot;SEATTLE&quot;);\n",
       "      marker_22._popup.options.maxWidth = 300;\n",
       "      map.addLayer(marker_22)\n",
       "      \n",
       "      var marker_23_icon = L.AwesomeMarkers.icon({ icon: 'info-sign',markerColor: 'blue',prefix: 'glyphicon',extraClasses: 'fa-rotate-0'});\n",
       "      var marker_23 = L.marker([47.3864, \n",
       "\t\t\t\t\t\t\t-122.307],\n",
       "\t\t\t\t\t\t\t{'icon':marker_23_icon}\n",
       "\t\t\t\t\t\t\t);\n",
       "      marker_23.bindPopup(&quot;SEATTLE&quot;);\n",
       "      marker_23._popup.options.maxWidth = 300;\n",
       "      map.addLayer(marker_23)\n",
       "      \n",
       "      var marker_24_icon = L.AwesomeMarkers.icon({ icon: 'info-sign',markerColor: 'blue',prefix: 'glyphicon',extraClasses: 'fa-rotate-0'});\n",
       "      var marker_24 = L.marker([47.3281, \n",
       "\t\t\t\t\t\t\t-122.343],\n",
       "\t\t\t\t\t\t\t{'icon':marker_24_icon}\n",
       "\t\t\t\t\t\t\t);\n",
       "      marker_24.bindPopup(&quot;FEDERAL WAY&quot;);\n",
       "      marker_24._popup.options.maxWidth = 300;\n",
       "      map.addLayer(marker_24)\n",
       "      \n",
       "      var marker_25_icon = L.AwesomeMarkers.icon({ icon: 'info-sign',markerColor: 'blue',prefix: 'glyphicon',extraClasses: 'fa-rotate-0'});\n",
       "      var marker_25 = L.marker([47.4698, \n",
       "\t\t\t\t\t\t\t-122.166],\n",
       "\t\t\t\t\t\t\t{'icon':marker_25_icon}\n",
       "\t\t\t\t\t\t\t);\n",
       "      marker_25.bindPopup(&quot;RENTON&quot;);\n",
       "      marker_25._popup.options.maxWidth = 300;\n",
       "      map.addLayer(marker_25)\n",
       "      \n",
       "      var marker_26_icon = L.AwesomeMarkers.icon({ icon: 'info-sign',markerColor: 'blue',prefix: 'glyphicon',extraClasses: 'fa-rotate-0'});\n",
       "      var marker_26 = L.marker([47.2997, \n",
       "\t\t\t\t\t\t\t-122.269],\n",
       "\t\t\t\t\t\t\t{'icon':marker_26_icon}\n",
       "\t\t\t\t\t\t\t);\n",
       "      marker_26.bindPopup(&quot;AUBURN&quot;);\n",
       "      marker_26._popup.options.maxWidth = 300;\n",
       "      map.addLayer(marker_26)\n",
       "      \n",
       "      var marker_27_icon = L.AwesomeMarkers.icon({ icon: 'info-sign',markerColor: 'blue',prefix: 'glyphicon',extraClasses: 'fa-rotate-0'});\n",
       "      var marker_27 = L.marker([47.2777, \n",
       "\t\t\t\t\t\t\t-122.252],\n",
       "\t\t\t\t\t\t\t{'icon':marker_27_icon}\n",
       "\t\t\t\t\t\t\t);\n",
       "      marker_27.bindPopup(&quot;AUBURN&quot;);\n",
       "      marker_27._popup.options.maxWidth = 300;\n",
       "      map.addLayer(marker_27)\n",
       "      \n",
       "      var marker_28_icon = L.AwesomeMarkers.icon({ icon: 'info-sign',markerColor: 'blue',prefix: 'glyphicon',extraClasses: 'fa-rotate-0'});\n",
       "      var marker_28 = L.marker([47.3881, \n",
       "\t\t\t\t\t\t\t-122.234],\n",
       "\t\t\t\t\t\t\t{'icon':marker_28_icon}\n",
       "\t\t\t\t\t\t\t);\n",
       "      marker_28.bindPopup(&quot;KENT&quot;);\n",
       "      marker_28._popup.options.maxWidth = 300;\n",
       "      map.addLayer(marker_28)\n",
       "      \n",
       "      var marker_29_icon = L.AwesomeMarkers.icon({ icon: 'info-sign',markerColor: 'blue',prefix: 'glyphicon',extraClasses: 'fa-rotate-0'});\n",
       "      var marker_29 = L.marker([47.4904, \n",
       "\t\t\t\t\t\t\t-122.203],\n",
       "\t\t\t\t\t\t\t{'icon':marker_29_icon}\n",
       "\t\t\t\t\t\t\t);\n",
       "      marker_29.bindPopup(&quot;RENTON&quot;);\n",
       "      marker_29._popup.options.maxWidth = 300;\n",
       "      map.addLayer(marker_29)\n",
       "      \n",
       "      var marker_30_icon = L.AwesomeMarkers.icon({ icon: 'info-sign',markerColor: 'blue',prefix: 'glyphicon',extraClasses: 'fa-rotate-0'});\n",
       "      var marker_30 = L.marker([47.467, \n",
       "\t\t\t\t\t\t\t-122.349],\n",
       "\t\t\t\t\t\t\t{'icon':marker_30_icon}\n",
       "\t\t\t\t\t\t\t);\n",
       "      marker_30.bindPopup(&quot;SEATTLE&quot;);\n",
       "      marker_30._popup.options.maxWidth = 300;\n",
       "      map.addLayer(marker_30)\n",
       "      \n",
       "\n",
       "      \n",
       "\n",
       "      \n",
       "\n",
       "      \n",
       "\n",
       "      \n",
       "\n",
       "      \n",
       "\n",
       "\n",
       "\n",
       "   </script>\n",
       "\n",
       "</body>\" style=\"width: 960px; height: 500px\"; border: none\"></iframe>"
      ],
      "text/plain": [
       "<datascience.maps.Map at 0x7fe45555c160>"
      ]
     },
     "execution_count": 21,
     "metadata": {},
     "output_type": "execute_result"
    }
   ],
   "source": [
    "lowest_30 = housing_location.sort('price', descending= False). take(np.arange(30)).select('zipcode', 'price', 'lat', 'long','PONAME', 'STATE', 'AREA')\n",
    "lowest_30\n",
    "Marker.map_table(lowest_30.select('lat', 'long', 'PONAME'))"
   ]
  },
  {
   "cell_type": "markdown",
   "metadata": {
    "deletable": true,
    "editable": true
   },
   "source": [
    "### Conclusions\n",
    "\n",
    "The graph has clearly shown expensive houses are distributed on two riversides of Lake Washington: districts like \n",
    "**Medina, Bellevue, MercerIsland**.\n",
    "    \n",
    "Cheap houses are at southsides of Lake Washington, further in land area. These districts include: **Kent, Aurburn, Federal Way**\n",
    "\n",
    "**Seattle** has both cheap and expensive houses. The closer to water, the more expensive."
   ]
  },
  {
   "cell_type": "markdown",
   "metadata": {
    "collapsed": true,
    "deletable": true,
    "editable": true
   },
   "source": [
    "## Part III: Modeling: Estimate Your Housing Budget\n",
    "\n",
    "In part II, I will build a generalized linear model on price varaible against other variables. The goal is to see which variables play important roles in predicting housing prices."
   ]
  },
  {
   "cell_type": "code",
   "execution_count": 22,
   "metadata": {
    "collapsed": false,
    "deletable": true,
    "editable": true
   },
   "outputs": [
    {
     "data": {
      "text/html": [
       "<table border=\"1\" class=\"dataframe\">\n",
       "    <thead>\n",
       "        <tr>\n",
       "            <th>price</th> <th>bedrooms</th> <th>bathrooms</th> <th>sqft_living</th> <th>sqft_lot</th> <th>floors</th> <th>waterfront</th> <th>view</th> <th>condition</th> <th>grade</th> <th>sqft_above</th> <th>sqft_basement</th>\n",
       "        </tr>\n",
       "    </thead>\n",
       "    <tbody>\n",
       "        <tr>\n",
       "            <td>221900   </td> <td>3       </td> <td>1        </td> <td>1180       </td> <td>5650    </td> <td>1     </td> <td>0         </td> <td>0   </td> <td>3        </td> <td>7    </td> <td>1180      </td> <td>0            </td>\n",
       "        </tr>\n",
       "    </tbody>\n",
       "        <tr>\n",
       "            <td>538000   </td> <td>3       </td> <td>2.25     </td> <td>2570       </td> <td>7242    </td> <td>2     </td> <td>0         </td> <td>0   </td> <td>3        </td> <td>7    </td> <td>2170      </td> <td>400          </td>\n",
       "        </tr>\n",
       "    </tbody>\n",
       "        <tr>\n",
       "            <td>180000   </td> <td>2       </td> <td>1        </td> <td>770        </td> <td>10000   </td> <td>1     </td> <td>0         </td> <td>0   </td> <td>3        </td> <td>6    </td> <td>770       </td> <td>0            </td>\n",
       "        </tr>\n",
       "    </tbody>\n",
       "        <tr>\n",
       "            <td>604000   </td> <td>4       </td> <td>3        </td> <td>1960       </td> <td>5000    </td> <td>1     </td> <td>0         </td> <td>0   </td> <td>5        </td> <td>7    </td> <td>1050      </td> <td>910          </td>\n",
       "        </tr>\n",
       "    </tbody>\n",
       "        <tr>\n",
       "            <td>510000   </td> <td>3       </td> <td>2        </td> <td>1680       </td> <td>8080    </td> <td>1     </td> <td>0         </td> <td>0   </td> <td>3        </td> <td>8    </td> <td>1680      </td> <td>0            </td>\n",
       "        </tr>\n",
       "    </tbody>\n",
       "        <tr>\n",
       "            <td>1.225e+06</td> <td>4       </td> <td>4.5      </td> <td>5420       </td> <td>101930  </td> <td>1     </td> <td>0         </td> <td>0   </td> <td>3        </td> <td>11   </td> <td>3890      </td> <td>1530         </td>\n",
       "        </tr>\n",
       "    </tbody>\n",
       "        <tr>\n",
       "            <td>257500   </td> <td>3       </td> <td>2.25     </td> <td>1715       </td> <td>6819    </td> <td>2     </td> <td>0         </td> <td>0   </td> <td>3        </td> <td>7    </td> <td>1715      </td> <td>0            </td>\n",
       "        </tr>\n",
       "    </tbody>\n",
       "        <tr>\n",
       "            <td>291850   </td> <td>3       </td> <td>1.5      </td> <td>1060       </td> <td>9711    </td> <td>1     </td> <td>0         </td> <td>0   </td> <td>3        </td> <td>7    </td> <td>1060      </td> <td>0            </td>\n",
       "        </tr>\n",
       "    </tbody>\n",
       "        <tr>\n",
       "            <td>229500   </td> <td>3       </td> <td>1        </td> <td>1780       </td> <td>7470    </td> <td>1     </td> <td>0         </td> <td>0   </td> <td>3        </td> <td>7    </td> <td>1050      </td> <td>730          </td>\n",
       "        </tr>\n",
       "    </tbody>\n",
       "        <tr>\n",
       "            <td>323000   </td> <td>3       </td> <td>2.5      </td> <td>1890       </td> <td>6560    </td> <td>2     </td> <td>0         </td> <td>0   </td> <td>3        </td> <td>7    </td> <td>1890      </td> <td>0            </td>\n",
       "        </tr>\n",
       "    </tbody>\n",
       "</table>\n",
       "<p>... (21603 rows omitted)</p"
      ],
      "text/plain": [
       "price     | bedrooms | bathrooms | sqft_living | sqft_lot | floors | waterfront | view | condition | grade | sqft_above | sqft_basement\n",
       "221900    | 3        | 1         | 1180        | 5650     | 1      | 0          | 0    | 3         | 7     | 1180       | 0\n",
       "538000    | 3        | 2.25      | 2570        | 7242     | 2      | 0          | 0    | 3         | 7     | 2170       | 400\n",
       "180000    | 2        | 1         | 770         | 10000    | 1      | 0          | 0    | 3         | 6     | 770        | 0\n",
       "604000    | 4        | 3         | 1960        | 5000     | 1      | 0          | 0    | 5         | 7     | 1050       | 910\n",
       "510000    | 3        | 2         | 1680        | 8080     | 1      | 0          | 0    | 3         | 8     | 1680       | 0\n",
       "1.225e+06 | 4        | 4.5       | 5420        | 101930   | 1      | 0          | 0    | 3         | 11    | 3890       | 1530\n",
       "257500    | 3        | 2.25      | 1715        | 6819     | 2      | 0          | 0    | 3         | 7     | 1715       | 0\n",
       "291850    | 3        | 1.5       | 1060        | 9711     | 1      | 0          | 0    | 3         | 7     | 1060       | 0\n",
       "229500    | 3        | 1         | 1780        | 7470     | 1      | 0          | 0    | 3         | 7     | 1050       | 730\n",
       "323000    | 3        | 2.5       | 1890        | 6560     | 2      | 0          | 0    | 3         | 7     | 1890       | 0\n",
       "... (21603 rows omitted)"
      ]
     },
     "execution_count": 22,
     "metadata": {},
     "output_type": "execute_result"
    }
   ],
   "source": [
    "## Transforming the data\n",
    "housing2 = housing.drop(['id','date', 'yr_built', 'yr_renovated', 'zipcode', 'lat', 'long', 'sqft_living15', 'sqft_lot15'])\n",
    "housing2"
   ]
  },
  {
   "cell_type": "code",
   "execution_count": 23,
   "metadata": {
    "collapsed": false,
    "deletable": true,
    "editable": true
   },
   "outputs": [
    {
     "name": "stdout",
     "output_type": "stream",
     "text": [
      "The size of test size is:  2161\n",
      "The size of training size is:  19452\n"
     ]
    }
   ],
   "source": [
    "print('The size of test size is: ' , int(housing2.num_rows/10))\n",
    "print('The size of training size is: ', housing2.num_rows - int(housing2.num_rows/10))"
   ]
  },
  {
   "cell_type": "code",
   "execution_count": 24,
   "metadata": {
    "collapsed": false,
    "deletable": true,
    "editable": true
   },
   "outputs": [],
   "source": [
    "# This step involves normalizing all numerical variables in the table. \n",
    "categorical_vars = ['view']\n",
    "numerical_vars = [i for i in housing2.labels if i not in categorical_vars]\n",
    "\n",
    "def normalize(array):\n",
    "    return (array - np.mean(array))/np.std(array)\n",
    "\n",
    "def norm_table(t):\n",
    "    new_t = Table()\n",
    "    for label in t.labels:\n",
    "        if label in categorical_vars:\n",
    "            new_t = new_t.with_column(label, t.column(label))\n",
    "        else:\n",
    "            new_t = new_t.with_column(label, normalize(t.column(label)))\n",
    "    return new_t\n"
   ]
  },
  {
   "cell_type": "code",
   "execution_count": 25,
   "metadata": {
    "collapsed": false,
    "deletable": true,
    "editable": true
   },
   "outputs": [
    {
     "data": {
      "text/html": [
       "<table border=\"1\" class=\"dataframe\">\n",
       "    <thead>\n",
       "        <tr>\n",
       "            <th>price</th> <th>bedrooms</th> <th>bathrooms</th> <th>sqft_living</th> <th>sqft_lot</th> <th>floors</th> <th>waterfront</th> <th>view</th> <th>condition</th> <th>grade</th> <th>sqft_above</th> <th>sqft_basement</th>\n",
       "        </tr>\n",
       "    </thead>\n",
       "    <tbody>\n",
       "        <tr>\n",
       "            <td>-0.866717  </td> <td>-0.398737</td> <td>-1.44746 </td> <td>-0.979835  </td> <td>-0.228321</td> <td>-0.915427</td> <td>-0.0871726</td> <td>0   </td> <td>-0.629187</td> <td>-0.558836</td> <td>-0.734708 </td> <td>-0.658681    </td>\n",
       "        </tr>\n",
       "    </tbody>\n",
       "        <tr>\n",
       "            <td>-0.00568792</td> <td>-0.398737</td> <td>0.175607 </td> <td>0.533634   </td> <td>-0.189885</td> <td>0.936506 </td> <td>-0.0871726</td> <td>0   </td> <td>-0.629187</td> <td>-0.558836</td> <td>0.460841  </td> <td>0.245141     </td>\n",
       "        </tr>\n",
       "    </tbody>\n",
       "        <tr>\n",
       "            <td>-0.980849  </td> <td>-1.47396 </td> <td>-1.44746 </td> <td>-1.42625   </td> <td>-0.123298</td> <td>-0.915427</td> <td>-0.0871726</td> <td>0   </td> <td>-0.629187</td> <td>-1.40959 </td> <td>-1.22983  </td> <td>-0.658681    </td>\n",
       "        </tr>\n",
       "    </tbody>\n",
       "        <tr>\n",
       "            <td>0.17409    </td> <td>0.676485 </td> <td>1.14945  </td> <td>-0.13055   </td> <td>-0.244014</td> <td>-0.915427</td> <td>-0.0871726</td> <td>0   </td> <td>2.44429  </td> <td>-0.558836</td> <td>-0.891699 </td> <td>1.39752      </td>\n",
       "        </tr>\n",
       "    </tbody>\n",
       "        <tr>\n",
       "            <td>-0.0819575 </td> <td>-0.398737</td> <td>-0.149007</td> <td>-0.435422  </td> <td>-0.169653</td> <td>-0.915427</td> <td>-0.0871726</td> <td>0   </td> <td>-0.629187</td> <td>0.291916 </td> <td>-0.130895 </td> <td>-0.658681    </td>\n",
       "        </tr>\n",
       "    </tbody>\n",
       "        <tr>\n",
       "            <td>1.86564    </td> <td>0.676485 </td> <td>3.09713  </td> <td>3.63679    </td> <td>2.09618  </td> <td>-0.915427</td> <td>-0.0871726</td> <td>0   </td> <td>-0.629187</td> <td>2.84417  </td> <td>2.53796   </td> <td>2.79844      </td>\n",
       "        </tr>\n",
       "    </tbody>\n",
       "        <tr>\n",
       "            <td>-0.769746  </td> <td>-0.398737</td> <td>0.175607 </td> <td>-0.397313  </td> <td>-0.200098</td> <td>0.936506 </td> <td>-0.0871726</td> <td>0   </td> <td>-0.629187</td> <td>-0.558836</td> <td>-0.0886284</td> <td>-0.658681    </td>\n",
       "        </tr>\n",
       "    </tbody>\n",
       "        <tr>\n",
       "            <td>-0.67618   </td> <td>-0.398737</td> <td>-0.798235</td> <td>-1.11049   </td> <td>-0.130276</td> <td>-0.915427</td> <td>-0.0871726</td> <td>0   </td> <td>-0.629187</td> <td>-0.558836</td> <td>-0.879623 </td> <td>-0.658681    </td>\n",
       "        </tr>\n",
       "    </tbody>\n",
       "        <tr>\n",
       "            <td>-0.846016  </td> <td>-0.398737</td> <td>-1.44746 </td> <td>-0.326539  </td> <td>-0.184381</td> <td>-0.915427</td> <td>-0.0871726</td> <td>0   </td> <td>-0.629187</td> <td>-0.558836</td> <td>-0.891699 </td> <td>0.990795     </td>\n",
       "        </tr>\n",
       "    </tbody>\n",
       "        <tr>\n",
       "            <td>-0.59133   </td> <td>-0.398737</td> <td>0.500221 </td> <td>-0.206768  </td> <td>-0.206351</td> <td>0.936506 </td> <td>-0.0871726</td> <td>0   </td> <td>-0.629187</td> <td>-0.558836</td> <td>0.122706  </td> <td>-0.658681    </td>\n",
       "        </tr>\n",
       "    </tbody>\n",
       "</table>\n",
       "<p>... (21603 rows omitted)</p"
      ],
      "text/plain": [
       "price       | bedrooms  | bathrooms | sqft_living | sqft_lot  | floors    | waterfront | view | condition | grade     | sqft_above | sqft_basement\n",
       "-0.866717   | -0.398737 | -1.44746  | -0.979835   | -0.228321 | -0.915427 | -0.0871726 | 0    | -0.629187 | -0.558836 | -0.734708  | -0.658681\n",
       "-0.00568792 | -0.398737 | 0.175607  | 0.533634    | -0.189885 | 0.936506  | -0.0871726 | 0    | -0.629187 | -0.558836 | 0.460841   | 0.245141\n",
       "-0.980849   | -1.47396  | -1.44746  | -1.42625    | -0.123298 | -0.915427 | -0.0871726 | 0    | -0.629187 | -1.40959  | -1.22983   | -0.658681\n",
       "0.17409     | 0.676485  | 1.14945   | -0.13055    | -0.244014 | -0.915427 | -0.0871726 | 0    | 2.44429   | -0.558836 | -0.891699  | 1.39752\n",
       "-0.0819575  | -0.398737 | -0.149007 | -0.435422   | -0.169653 | -0.915427 | -0.0871726 | 0    | -0.629187 | 0.291916  | -0.130895  | -0.658681\n",
       "1.86564     | 0.676485  | 3.09713   | 3.63679     | 2.09618   | -0.915427 | -0.0871726 | 0    | -0.629187 | 2.84417   | 2.53796    | 2.79844\n",
       "-0.769746   | -0.398737 | 0.175607  | -0.397313   | -0.200098 | 0.936506  | -0.0871726 | 0    | -0.629187 | -0.558836 | -0.0886284 | -0.658681\n",
       "-0.67618    | -0.398737 | -0.798235 | -1.11049    | -0.130276 | -0.915427 | -0.0871726 | 0    | -0.629187 | -0.558836 | -0.879623  | -0.658681\n",
       "-0.846016   | -0.398737 | -1.44746  | -0.326539   | -0.184381 | -0.915427 | -0.0871726 | 0    | -0.629187 | -0.558836 | -0.891699  | 0.990795\n",
       "-0.59133    | -0.398737 | 0.500221  | -0.206768   | -0.206351 | 0.936506  | -0.0871726 | 0    | -0.629187 | -0.558836 | 0.122706   | -0.658681\n",
       "... (21603 rows omitted)"
      ]
     },
     "execution_count": 25,
     "metadata": {},
     "output_type": "execute_result"
    }
   ],
   "source": [
    "norm_housing2 = norm_table(housing2)\n",
    "norm_housing2"
   ]
  },
  {
   "cell_type": "code",
   "execution_count": 26,
   "metadata": {
    "collapsed": true,
    "deletable": true,
    "editable": true
   },
   "outputs": [],
   "source": [
    "housing2 = norm_housing2\n",
    "housing2 = housing2.to_df()"
   ]
  },
  {
   "cell_type": "markdown",
   "metadata": {
    "deletable": true,
    "editable": true
   },
   "source": [
    "### (i) Fitting Ordinary Linear Model "
   ]
  },
  {
   "cell_type": "code",
   "execution_count": 32,
   "metadata": {
    "collapsed": false,
    "deletable": true,
    "editable": true
   },
   "outputs": [
    {
     "name": "stdout",
     "output_type": "stream",
     "text": [
      "Coefficients: \n",
      " bedrooms        -8.816542e-02\n",
      "bathrooms       -2.762590e-02\n",
      "sqft_living     -2.210515e+12\n",
      "sqft_lot        -3.841575e-02\n",
      "floors          -5.346584e-03\n",
      "waterfront       1.336137e-01\n",
      "view             1.660885e-01\n",
      "condition        9.071270e-02\n",
      "grade            3.240213e-01\n",
      "sqft_above       1.993059e+12\n",
      "sqft_basement    1.065195e+12\n",
      "dtype: float64\n",
      "Mean squared error: 0.43\n",
      "Variance score: 0.62\n"
     ]
    },
    {
     "data": {
      "image/png": "[encoded data removed]",
      "text/plain": [
       "<matplotlib.figure.Figure at 0x7fe4550fc550>"
      ]
     },
     "metadata": {},
     "output_type": "display_data"
    }
   ],
   "source": [
    "# The commented part is what I previsouly written for train/test split, but later I found it unconvenient to use, especially\n",
    "#when I need to transform some variables. Therefore I use sklearn train_test_split function.  \n",
    "\n",
    "#def generate_train_test(housing2):\n",
    "\n",
    "#    test_size = int(housing2.num_rows/10)\n",
    "#    training_size = housing2.num_rows - int(housing2.num_rows/10)\n",
    "#    housing2_resample = housing2.sample(with_replacement=False)\n",
    "\n",
    "#    training_X = housing2_resample.take(np.arange(training_size)).drop('price').to_df()\n",
    "#    training_Y = housing2_resample.take(np.arange(training_size)).select('price').to_df()\n",
    "#    test_X = housing2_resample.take(np.arange(training_size + 1, housing2.num_rows)).drop('price').to_df()\n",
    "#    test_Y = housing2_resample.take(np.arange(training_size + 1, housing2.num_rows)).select('price').to_df()\n",
    "#   return (training_X, training_Y, test_X, test_Y)\n",
    "\n",
    "from sklearn import linear_model\n",
    "\n",
    "training_X, testing_X, training_Y, testing_Y = train_test_split(housing2.drop(['price'], axis = 1), housing2['price'], test_size=0.2, random_state=42)\n",
    "\n",
    "def fit_model(train_X, train_Y, test_X, test_Y):\n",
    "    regr = linear_model.LinearRegression()\n",
    "    regr.fit(train_X, train_Y)\n",
    "    # The coefficients\n",
    "    coef = pd.Series(regr.coef_, index = train_X.columns)\n",
    "    print('Coefficients: \\n', coef)\n",
    "    \n",
    "    import matplotlib\n",
    "    imp_coef =coef.sort_values().head(10)\n",
    "\n",
    "    matplotlib.rcParams['figure.figsize'] = (6.0, 8.0)\n",
    "    imp_coef.plot(kind = \"barh\")\n",
    "    plots.title(\"Coefficients in the Lasso Model\")\n",
    "    \n",
    "    # The mean squared error\n",
    "    print(\"Mean squared error: %.2f\" % np.mean((regr.predict(test_X) - test_Y) ** 2))\n",
    "    # Explained variance score: 1 is perfect prediction\n",
    "    print('Variance score: %.2f' % regr.score(test_X, test_Y))\n",
    "    print\n",
    "\n",
    "fit_model(training_X, training_Y, testing_X, testing_Y)"
   ]
  },
  {
   "cell_type": "markdown",
   "metadata": {
    "deletable": true,
    "editable": true
   },
   "source": [
    "**Observation**: The fitting of OLS returns an array of coefficients of all these variables. The variance score is 0.62. However, we find most coefficients are reduced to zero, only two coefficients are significant. **This is a sign of multicollinearity**. That means multiple variables are highly correlated to each other, so that many originally significant variables have their coefficeints dimimished to zero. In order to validify this, there are something we need to look at."
   ]
  },
  {
   "cell_type": "markdown",
   "metadata": {},
   "source": [
    "### Model Diagnostics"
   ]
  },
  {
   "cell_type": "code",
   "execution_count": 28,
   "metadata": {
    "collapsed": false,
    "deletable": true,
    "editable": true
   },
   "outputs": [
    {
     "data": {
      "text/plain": [
       "<matplotlib.axes._subplots.AxesSubplot at 0x7fe454569ef0>"
      ]
     },
     "execution_count": 28,
     "metadata": {},
     "output_type": "execute_result"
    },
    {
     "data": {
      "image/png": "[encoded data removed]",
      "text/plain": [
       "<matplotlib.figure.Figure at 0x7fe454569cf8>"
      ]
     },
     "metadata": {},
     "output_type": "display_data"
    }
   ],
   "source": [
    "## checking the distribution in train_and_test \n",
    "training_Y.hist()"
   ]
  },
  {
   "cell_type": "code",
   "execution_count": 29,
   "metadata": {
    "collapsed": false,
    "deletable": true,
    "editable": true
   },
   "outputs": [
    {
     "data": {
      "text/plain": [
       "<matplotlib.axes._subplots.AxesSubplot at 0x7fe4557969e8>"
      ]
     },
     "execution_count": 29,
     "metadata": {},
     "output_type": "execute_result"
    },
    {
     "data": {
      "image/png": "[encoded data removed]",
      "text/plain": [
       "<matplotlib.figure.Figure at 0x7fe455523908>"
      ]
     },
     "metadata": {},
     "output_type": "display_data"
    }
   ],
   "source": [
    "testing_Y.hist()"
   ]
  },
  {
   "cell_type": "markdown",
   "metadata": {},
   "source": [
    "The price distribution in train and test set are similar, so the split process is random."
   ]
  },
  {
   "cell_type": "code",
   "execution_count": 33,
   "metadata": {
    "collapsed": false
   },
   "outputs": [
    {
     "data": {
      "image/png": "[encoded data removed]",
      "text/plain": [
       "<matplotlib.figure.Figure at 0x7fe454f652b0>"
      ]
     },
     "metadata": {},
     "output_type": "display_data"
    }
   ],
   "source": [
    "#To further investigate the correlation among all variables, I create a correlation plot, which shows correlation between each pair of variables. \n",
    "plots.figure(figsize=(10, 7))\n",
    "mask = np.zeros_like(training_X.corr())\n",
    "mask[np.triu_indices_from(mask)] = True\n",
    "with sns.axes_style('white'):\n",
    "    ax = sns.heatmap(training_X.corr(), mask=mask, vmax=.3, annot=True)"
   ]
  },
  {
   "cell_type": "code",
   "execution_count": 30,
   "metadata": {
    "collapsed": false,
    "deletable": true,
    "editable": true
   },
   "outputs": [
    {
     "data": {
      "text/html": [
       "<div>\n",
       "<table border=\"1\" class=\"dataframe\">\n",
       "  <thead>\n",
       "    <tr style=\"text-align: right;\">\n",
       "      <th></th>\n",
       "      <th>bedrooms</th>\n",
       "      <th>bathrooms</th>\n",
       "      <th>sqft_living</th>\n",
       "      <th>sqft_lot</th>\n",
       "      <th>floors</th>\n",
       "      <th>waterfront</th>\n",
       "      <th>view</th>\n",
       "      <th>condition</th>\n",
       "      <th>grade</th>\n",
       "      <th>sqft_above</th>\n",
       "      <th>sqft_basement</th>\n",
       "    </tr>\n",
       "  </thead>\n",
       "  <tbody>\n",
       "    <tr>\n",
       "      <th>bedrooms</th>\n",
       "      <td>1.0</td>\n",
       "      <td>NaN</td>\n",
       "      <td>NaN</td>\n",
       "      <td>NaN</td>\n",
       "      <td>NaN</td>\n",
       "      <td>NaN</td>\n",
       "      <td>NaN</td>\n",
       "      <td>NaN</td>\n",
       "      <td>NaN</td>\n",
       "      <td>NaN</td>\n",
       "      <td>NaN</td>\n",
       "    </tr>\n",
       "    <tr>\n",
       "      <th>bathrooms</th>\n",
       "      <td>NaN</td>\n",
       "      <td>1.000000</td>\n",
       "      <td>0.752745</td>\n",
       "      <td>NaN</td>\n",
       "      <td>NaN</td>\n",
       "      <td>NaN</td>\n",
       "      <td>NaN</td>\n",
       "      <td>NaN</td>\n",
       "      <td>0.664407</td>\n",
       "      <td>0.683303</td>\n",
       "      <td>NaN</td>\n",
       "    </tr>\n",
       "    <tr>\n",
       "      <th>sqft_living</th>\n",
       "      <td>NaN</td>\n",
       "      <td>0.752745</td>\n",
       "      <td>1.000000</td>\n",
       "      <td>NaN</td>\n",
       "      <td>NaN</td>\n",
       "      <td>NaN</td>\n",
       "      <td>NaN</td>\n",
       "      <td>NaN</td>\n",
       "      <td>0.760652</td>\n",
       "      <td>0.875820</td>\n",
       "      <td>NaN</td>\n",
       "    </tr>\n",
       "    <tr>\n",
       "      <th>sqft_lot</th>\n",
       "      <td>NaN</td>\n",
       "      <td>NaN</td>\n",
       "      <td>NaN</td>\n",
       "      <td>1.0</td>\n",
       "      <td>NaN</td>\n",
       "      <td>NaN</td>\n",
       "      <td>NaN</td>\n",
       "      <td>NaN</td>\n",
       "      <td>NaN</td>\n",
       "      <td>NaN</td>\n",
       "      <td>NaN</td>\n",
       "    </tr>\n",
       "    <tr>\n",
       "      <th>floors</th>\n",
       "      <td>NaN</td>\n",
       "      <td>NaN</td>\n",
       "      <td>NaN</td>\n",
       "      <td>NaN</td>\n",
       "      <td>1.0</td>\n",
       "      <td>NaN</td>\n",
       "      <td>NaN</td>\n",
       "      <td>NaN</td>\n",
       "      <td>NaN</td>\n",
       "      <td>NaN</td>\n",
       "      <td>NaN</td>\n",
       "    </tr>\n",
       "    <tr>\n",
       "      <th>waterfront</th>\n",
       "      <td>NaN</td>\n",
       "      <td>NaN</td>\n",
       "      <td>NaN</td>\n",
       "      <td>NaN</td>\n",
       "      <td>NaN</td>\n",
       "      <td>1.0</td>\n",
       "      <td>NaN</td>\n",
       "      <td>NaN</td>\n",
       "      <td>NaN</td>\n",
       "      <td>NaN</td>\n",
       "      <td>NaN</td>\n",
       "    </tr>\n",
       "    <tr>\n",
       "      <th>view</th>\n",
       "      <td>NaN</td>\n",
       "      <td>NaN</td>\n",
       "      <td>NaN</td>\n",
       "      <td>NaN</td>\n",
       "      <td>NaN</td>\n",
       "      <td>NaN</td>\n",
       "      <td>1.0</td>\n",
       "      <td>NaN</td>\n",
       "      <td>NaN</td>\n",
       "      <td>NaN</td>\n",
       "      <td>NaN</td>\n",
       "    </tr>\n",
       "    <tr>\n",
       "      <th>condition</th>\n",
       "      <td>NaN</td>\n",
       "      <td>NaN</td>\n",
       "      <td>NaN</td>\n",
       "      <td>NaN</td>\n",
       "      <td>NaN</td>\n",
       "      <td>NaN</td>\n",
       "      <td>NaN</td>\n",
       "      <td>1.0</td>\n",
       "      <td>NaN</td>\n",
       "      <td>NaN</td>\n",
       "      <td>NaN</td>\n",
       "    </tr>\n",
       "    <tr>\n",
       "      <th>grade</th>\n",
       "      <td>NaN</td>\n",
       "      <td>0.664407</td>\n",
       "      <td>0.760652</td>\n",
       "      <td>NaN</td>\n",
       "      <td>NaN</td>\n",
       "      <td>NaN</td>\n",
       "      <td>NaN</td>\n",
       "      <td>NaN</td>\n",
       "      <td>1.000000</td>\n",
       "      <td>0.752990</td>\n",
       "      <td>NaN</td>\n",
       "    </tr>\n",
       "    <tr>\n",
       "      <th>sqft_above</th>\n",
       "      <td>NaN</td>\n",
       "      <td>0.683303</td>\n",
       "      <td>0.875820</td>\n",
       "      <td>NaN</td>\n",
       "      <td>NaN</td>\n",
       "      <td>NaN</td>\n",
       "      <td>NaN</td>\n",
       "      <td>NaN</td>\n",
       "      <td>0.752990</td>\n",
       "      <td>1.000000</td>\n",
       "      <td>NaN</td>\n",
       "    </tr>\n",
       "    <tr>\n",
       "      <th>sqft_basement</th>\n",
       "      <td>NaN</td>\n",
       "      <td>NaN</td>\n",
       "      <td>NaN</td>\n",
       "      <td>NaN</td>\n",
       "      <td>NaN</td>\n",
       "      <td>NaN</td>\n",
       "      <td>NaN</td>\n",
       "      <td>NaN</td>\n",
       "      <td>NaN</td>\n",
       "      <td>NaN</td>\n",
       "      <td>1.0</td>\n",
       "    </tr>\n",
       "  </tbody>\n",
       "</table>\n",
       "</div>"
      ],
      "text/plain": [
       "               bedrooms  bathrooms  sqft_living  sqft_lot  floors  waterfront  \\\n",
       "bedrooms            1.0        NaN          NaN       NaN     NaN         NaN   \n",
       "bathrooms           NaN   1.000000     0.752745       NaN     NaN         NaN   \n",
       "sqft_living         NaN   0.752745     1.000000       NaN     NaN         NaN   \n",
       "sqft_lot            NaN        NaN          NaN       1.0     NaN         NaN   \n",
       "floors              NaN        NaN          NaN       NaN     1.0         NaN   \n",
       "waterfront          NaN        NaN          NaN       NaN     NaN         1.0   \n",
       "view                NaN        NaN          NaN       NaN     NaN         NaN   \n",
       "condition           NaN        NaN          NaN       NaN     NaN         NaN   \n",
       "grade               NaN   0.664407     0.760652       NaN     NaN         NaN   \n",
       "sqft_above          NaN   0.683303     0.875820       NaN     NaN         NaN   \n",
       "sqft_basement       NaN        NaN          NaN       NaN     NaN         NaN   \n",
       "\n",
       "               view  condition     grade  sqft_above  sqft_basement  \n",
       "bedrooms        NaN        NaN       NaN         NaN            NaN  \n",
       "bathrooms       NaN        NaN  0.664407    0.683303            NaN  \n",
       "sqft_living     NaN        NaN  0.760652    0.875820            NaN  \n",
       "sqft_lot        NaN        NaN       NaN         NaN            NaN  \n",
       "floors          NaN        NaN       NaN         NaN            NaN  \n",
       "waterfront      NaN        NaN       NaN         NaN            NaN  \n",
       "view            1.0        NaN       NaN         NaN            NaN  \n",
       "condition       NaN        1.0       NaN         NaN            NaN  \n",
       "grade           NaN        NaN  1.000000    0.752990            NaN  \n",
       "sqft_above      NaN        NaN  0.752990    1.000000            NaN  \n",
       "sqft_basement   NaN        NaN       NaN         NaN            1.0  "
      ]
     },
     "execution_count": 30,
     "metadata": {},
     "output_type": "execute_result"
    }
   ],
   "source": [
    "correlation = training_X.corr()\n",
    "correlation[correlation > 0.6]"
   ]
  },
  {
   "cell_type": "markdown",
   "metadata": {},
   "source": [
    "#### Variance Inflation Factor (VIF)"
   ]
  },
  {
   "cell_type": "code",
   "execution_count": 36,
   "metadata": {
    "collapsed": false
   },
   "outputs": [
    {
     "name": "stdout",
     "output_type": "stream",
     "text": [
      "[1.6347075862274338, 2.9438022146013507, inf, 1.0610121698286421, 1.846619100416889, 1.1653784390591031, 1.295814526435676, 1.1060629325607061, 2.8674692252623584, inf, inf]\n",
      "Index(['bedrooms', 'bathrooms', 'sqft_living', 'sqft_lot', 'floors',\n",
      "       'waterfront', 'view', 'condition', 'grade', 'sqft_above',\n",
      "       'sqft_basement'],\n",
      "      dtype='object')\n"
     ]
    }
   ],
   "source": [
    "## Any Multicollinearity among multiple (more than two varibles\n",
    "vif = [variance_inflation_factor(training_X.values, i) for i in range(training_X.shape[1])]\n",
    "print(vif)\n",
    "print(training_X.columns)"
   ]
  },
  {
   "cell_type": "markdown",
   "metadata": {
    "deletable": true,
    "editable": true
   },
   "source": [
    "**Observation**: I find that some variables are highly correlated, and this might affect the performance of the model.These variables include **[(sqft_living, sqft_above), (sqft_living, grade), (bathrooms, sqft_living), (bathrooms, sqft_above)]**. In order to avoid multicollinearity, I fit a Lasso regression model to the data. Becuase Lasso can reduce some redundant variables' coefficients to zero.     "
   ]
  },
  {
   "cell_type": "markdown",
   "metadata": {
    "deletable": true,
    "editable": true
   },
   "source": [
    "### (ii) Fitting a Lasso Model  "
   ]
  },
  {
   "cell_type": "code",
   "execution_count": 38,
   "metadata": {
    "collapsed": false,
    "deletable": true,
    "editable": true
   },
   "outputs": [
    {
     "name": "stdout",
     "output_type": "stream",
     "text": [
      "The average errror rate is:  0.620968695768\n",
      "bedrooms        -0.081097\n",
      "bathrooms       -0.023968\n",
      "sqft_living      0.465729\n",
      "sqft_lot        -0.037113\n",
      "floors          -0.004350\n",
      "waterfront       0.132531\n",
      "view             0.167479\n",
      "condition        0.090053\n",
      "grade            0.323133\n",
      "sqft_above       0.000000\n",
      "sqft_basement    0.036410\n",
      "dtype: float64\n"
     ]
    }
   ],
   "source": [
    "# Lasso Regression\n",
    "from sklearn.linear_model import LassoCV, LassoLarsCV\n",
    "from sklearn.model_selection import cross_val_score\n",
    "\n",
    "def rmse_cv(model):\n",
    "    rmse= np.sqrt(-cross_val_score(model, training_X, training_Y, scoring=\"neg_mean_squared_error\", cv = 5))\n",
    "    return(rmse)\n",
    "\n",
    "model_lasso = LassoCV(alphas = [1, 0.5, 0.1, 0.05, 0.01, 0.001, 0.0005]).fit(training_X, training_Y)\n",
    "print('The average errror rate is: ',rmse_cv(model_lasso).mean())\n",
    "\n",
    "coef = pd.Series(model_lasso.coef_, index = training_X.columns)\n",
    "\n",
    "print(coef)\n",
    "def fit_lasso():\n",
    "    reg = linear_model.Lasso(alpha = 0.1)\n",
    "    "
   ]
  },
  {
   "cell_type": "markdown",
   "metadata": {
    "deletable": true,
    "editable": true
   },
   "source": [
    "### The following plot gives an importance ranking of all features in determining housing prices"
   ]
  },
  {
   "cell_type": "code",
   "execution_count": 35,
   "metadata": {
    "collapsed": false,
    "deletable": true,
    "editable": true
   },
   "outputs": [
    {
     "data": {
      "text/plain": [
       "<matplotlib.text.Text at 0x7fee3cc207f0>"
      ]
     },
     "execution_count": 35,
     "metadata": {},
     "output_type": "execute_result"
    },
    {
     "data": {
      "image/png": "[encoded data removed]",
      "text/plain": [
       "<matplotlib.figure.Figure at 0x7fee3cc54940>"
      ]
     },
     "metadata": {},
     "output_type": "display_data"
    }
   ],
   "source": [
    "import matplotlib\n",
    "imp_coef =coef.sort_values().head(10)\n",
    "\n",
    "matplotlib.rcParams['figure.figsize'] = (8.0, 10.0)\n",
    "imp_coef.plot(kind = \"barh\")\n",
    "plots.title(\"Coefficients in the Lasso Model\")"
   ]
  },
  {
   "cell_type": "markdown",
   "metadata": {},
   "source": [
    "**Observation**: This time more variables become significant. According to the lasso result, The grade of the housing, the view, and being waterfront are three important factors that affect housing price most. On the other hand, number of bedrooms, size of parking lot, number of bathrooms negatively impact housing prices. "
   ]
  },
  {
   "cell_type": "markdown",
   "metadata": {},
   "source": [
    "And I can use the following funciton to find the prediction error for different models:"
   ]
  },
  {
   "cell_type": "code",
   "execution_count": 38,
   "metadata": {
    "collapsed": true,
    "deletable": true,
    "editable": true
   },
   "outputs": [],
   "source": [
    "## Calculate the Error Rate\n",
    "def error(result):\n",
    "    prediction = result.predict(test_X)\n",
    "    SSE = sum((test_Y - prediction) ** 2)\n",
    "    return SSE"
   ]
  },
  {
   "cell_type": "markdown",
   "metadata": {},
   "source": [
    "## Conclusion"
   ]
  },
  {
   "cell_type": "markdown",
   "metadata": {},
   "source": [
    "The project mainly performs an investigation on housing prices in King County, WA. From the previous steps, the result tells us following things:\n",
    "\n",
    "1. Waterfront Houses are **more expensive** than non-waterfront houses, and the difference is not due to chance. \n",
    "\n",
    "2. In this context, waterfront houses refer to houses near Washington Lake. From joining zip code table, I find that residential districts close to the Lake (Medina, Bellevue, MercerIsland) indeed has a higher average housing price than inland districts (Kent, Aurburn, Federal Way). Top30, Low30 houses are plotted on map to verify this result.\n",
    "\n",
    "3. Lasso model gives an **importance feature ranking**, which gives housebuyers an idea of what factors may decide higher house prices. \n",
    "\n",
    "\n",
    "Although the lasso model has given me a lot of information, this hasn't been an end to this investigation. More better models could be attempted on this dataset, like decision tree, etc, to capture more details of these features characteristics. And also, transforming the response variable (using log) and fitting a generalized linear model could be another option if looking for higher accuracy. They are not discussed in detail here in this project.  "
   ]
  },
  {
   "cell_type": "code",
   "execution_count": null,
   "metadata": {
    "collapsed": false,
    "deletable": true,
    "editable": true
   },
   "outputs": [
    {
     "name": "stdout",
     "output_type": "stream",
     "text": [
      "=====================================================================\n",
      "Assignment: Independent Data Exploration\n",
      "OK, version v1.9.5\n",
      "=====================================================================\n",
      "\n",
      "Successfully logged in as jzljohn18@berkeley.edu\n",
      "~~~~~~~~~~~~~~~~~~~~~~~~~~~~~~~~~~~~~~~~~~~~~~~~~~~~~~~~~~~~~~~~~~~~~\n",
      "Running tests\n",
      "\n",
      "---------------------------------------------------------------------\n",
      "Test summary\n",
      "    Passed: 1\n",
      "    Failed: 0\n",
      "[ooooooooook] 100.0% passed\n",
      "\n"
     ]
    },
    {
     "data": {
      "application/javascript": [
       "IPython.notebook.save_checkpoint();"
      ],
      "text/plain": [
       "<IPython.core.display.Javascript object>"
      ]
     },
     "metadata": {},
     "output_type": "display_data"
    },
    {
     "data": {
      "application/javascript": [
       "IPython.notebook.save_notebook();"
      ],
      "text/plain": [
       "<IPython.core.display.Javascript object>"
      ]
     },
     "metadata": {},
     "output_type": "display_data"
    },
    {
     "name": "stdout",
     "output_type": "stream",
     "text": [
      "Saving notebook... "
     ]
    }
   ],
   "source": [
    "# Run this cell to \n",
    "# - create necessary support files, \n",
    "# - check that your exploration is formatted correctly, \n",
    "# - and submit your work to OK.\n",
    "\n",
    "ok_spec = \"\"\"\n",
    "{\n",
    "  \"name\": \"Independent Data Exploration\",\n",
    "  \"endpoint\": \"cal/data8/sp17/exploration\",\n",
    "  \"src\": [\n",
    "    \"exploration.ipynb\"\n",
    "  ],\n",
    "  \"tests\": {},\n",
    "  \"protocols\": [\n",
    "      \"file_contents\",\n",
    "      \"backup\"\n",
    "  ]\n",
    "}    \n",
    "\"\"\"\n",
    "    \n",
    "ok_test = '''\n",
    "test = {\n",
    "  'name': 'Check file name',\n",
    "  'points': 1,\n",
    "  'suites': [\n",
    "    {\n",
    "      'cases': [\n",
    "        {\n",
    "          'code': r\"\"\"\n",
    "          >>> # Make sure that you name your submission file exploration.ipynb\n",
    "          >>> import os\n",
    "          >>> os.path.exists('exploration.ipynb')\n",
    "          True\n",
    "          \"\"\",\n",
    "          'hidden': False,\n",
    "          'locked': False\n",
    "        },\n",
    "      ],\n",
    "      'scored': True,\n",
    "      'setup': '',\n",
    "      'teardown': '',\n",
    "      'type': 'doctest'\n",
    "    }\n",
    "  ]\n",
    "}\n",
    "'''\n",
    "    \n",
    "import os\n",
    "    \n",
    "if not os.path.exists('exploration.ok'):\n",
    "    with open('exploration.ok', 'w') as out:\n",
    "        out.write(ok_spec)\n",
    "\n",
    "if not os.path.exists('tests/q1.py'):\n",
    "    with open('tests/q1.py', 'w') as out:\n",
    "        out.write(ok_test)\n",
    "    \n",
    "from client.api.notebook import Notebook\n",
    "ok = Notebook('exploration.ok')\n",
    "ok.auth(inline=True)\n",
    "ok.grade('q1')\n",
    "_ = ok.submit()"
   ]
  },
  {
   "cell_type": "code",
   "execution_count": null,
   "metadata": {
    "collapsed": true,
    "deletable": true,
    "editable": true
   },
   "outputs": [],
   "source": []
  }
 ],
 "metadata": {
  "kernelspec": {
   "display_name": "Python 3",
   "language": "python",
   "name": "python3"
  },
  "language_info": {
   "codemirror_mode": {
    "name": "ipython",
    "version": 3
   },
   "file_extension": ".py",
   "mimetype": "text/x-python",
   "name": "python",
   "nbconvert_exporter": "python",
   "pygments_lexer": "ipython3",
   "version": "3.5.2"
  }
 },
 "nbformat": 4,
 "nbformat_minor": 2
}
